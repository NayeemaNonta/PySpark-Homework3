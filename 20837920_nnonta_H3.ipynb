{
 "cells": [
  {
   "cell_type": "markdown",
   "id": "f6a3dccc",
   "metadata": {},
   "source": [
    "# Homework 3 Instructions\n",
    "The goal for this homework is for you to interact with python libraries that facilitate data manipulation and analysis. This homework closely follows the 2023/06/05 [pyspark tutorial](https://github.com/jmpark0808/pyspark/blob/hmw3/pyspark.ipynb).\n",
    "\n",
    "You will be analyzing a 500,010 tweet dataset (10 of which you will make yourself in **Part 1**). You'll be asked to load the data with pyspark, answer questions about the dataset and then finally visualizing connections between your tweets and mentions based on a hashtag.\n",
    "\n",
    "## Submission Setup\n",
    "1. Rename this file as \"\\<student_id\\>_\\<username\\>_H3\"\n",
    "2. Preview this notebook as an HTML file, i.e., File -> Print Preview\n",
    "3. `Cmd + P` to get the printing prompt but save the file as **PDF**\n",
    "4. Submit this renamed file to CrowdMark\n",
    "    - ***Make sure that the submission file includes the cell outputs***\n",
    "\n",
    "\n",
    "## Tips\n",
    "- Refer heavily to the 2023/06/05 tutorial code since this homework is a slight derivation of it\n",
    "- Refer to documentation for useful methods (e.g., [pyspark.sql.DataFrame](https://spark.apache.org/docs/3.1.1/api/python/reference/api/pyspark.sql.DataFrame.html)) and we have provided some useful links in this notebook\n",
    "- We are evaluating the cell outputs\n",
    "- Ask questions in piazza and contribute to other peoples posts (anonymously if you are too shy)\n"
   ]
  },
  {
   "cell_type": "markdown",
   "id": "643c5e94",
   "metadata": {},
   "source": [
    "# Part 0: Setup\n",
    "\n",
    "### Install Required Packages\n",
    "`pip install -r requirements.txt`\n",
    "\n",
    "Or I suggest installing these in a python virtual environment\n",
    "```bash\n",
    "mkdir envs\n",
    "cd envs\n",
    "virtualenv msci436 -p python3\n",
    "source envs/msci436/bin/activate # activate virtual env\n",
    "pip install -r requirements.txt\n",
    "```\n",
    "\n",
    "### Check if you have Java\n",
    "#### Linux\n",
    "`!java -version`\n",
    "\n",
    "If you do not have java installed, run\n",
    "```\n",
    "sudo apt-get update\n",
    "sudo apt-get install openjdk-8-jdk\n",
    "```\n",
    "\n",
    "#### macOS\n",
    "[Here](https://mkyong.com/java/how-to-install-java-on-mac-osx/#homebrew-install-latest-java-on-macos) is the brief guide but note that if `/usr/local/Cellar` doesn't exist for you, follow the bellow steps\n",
    "\n",
    "1. Install java `brew install java`\n",
    "2. View java symbolic link instructions `brew info java`\n",
    "3. Execute the command under \"==> Caveats\", (for me it's `sudo ln -sfn /opt/homebrew/opt/openjdk/libexec/openjdk.jdk /Library/Java/JavaVirtualMachines/openjdk.jdk`)\n",
    "4. Validate that everything works with `java -version`"
   ]
  },
  {
   "cell_type": "markdown",
   "id": "bbf74295",
   "metadata": {},
   "source": [
    "# Part 1: Data Creation\n",
    "In this part you will add 10 more tweets to [hmw3_tweets.zip](https://github.com/jmpark0808/pyspark/blob/hmw3/hmw3_tweets.zip) (download and unzip it) which containes the first 500,000 tweets from the [Sentiment140](https://www.kaggle.com/datasets/kazanova/sentiment140) dataset. \n",
    "\n",
    "1. Use your student number as the 'id' (second column) and your username as the 'user' (fifth column)\n",
    "2. Create tweets (10 total) mentioning (1 mention per tweet):\n",
    "    - <span style=\"color:blue\">{'Hollywood_Trey', 'MiDesfileNegro', 'TessMorris', 'amazingphoebe', 'kasey79', 'lost_dog', 'nessie111', 'nuttychris', 'sebby_peek', 'tweetpet'}\n",
    "    - Example; \"@Hollywood_Trey We should definitely nominate Eddie and Kimathi for the TA awards\"\n",
    "3. Include hashtag (defined below) in all your tweets \n",
    "\n",
    "This will be your personal data csv for this homework"
   ]
  },
  {
   "cell_type": "code",
   "execution_count": 1,
   "id": "ff42795d",
   "metadata": {},
   "outputs": [
    {
     "name": "stdout",
     "output_type": "stream",
     "text": [
      "10\n"
     ]
    }
   ],
   "source": [
    "HASHTAG = \"#fail\"\n",
    "\n",
    "#Data added manually to hmw3_tweets.csv file\n",
    "deptColumns = [\"target\",\"ids\", \"date\", \"flag\", \"user\", \"text\"]\n",
    "data = [(\"0\",\"20837920\",\"Mon Jun 12 12:45:09 EDT 2023\",\"NO_QUERY\",\"nnonta\",\"This is my test tweet for this homework @Hollywood_Trey {}\".format(HASHTAG)),\n",
    "(\"0\",\"20837920\",\"Mon Jun 12 12:49:14 EDT 2023\",\"NO_QUERY\",\"nnonta\",\"Sup @MiDesfileNegro, did you see that video I shared? {}\".format(HASHTAG)),\n",
    "(\"0\",\"20837920\",\"Mon Jun 12 12:51:16 EDT 2023\",\"NO_QUERY\",\"nnonta\",\"OMG @TessMorris, you're hilarious {}\".format(HASHTAG)),\n",
    "(\"0\",\"20837920\",\"Mon Jun 12 12:51:43 EDT 2023\",\"NO_QUERY\",\"nnonta\",\"Those turtles are so cute @amazingphoebe {}\".format(HASHTAG)),\n",
    "(\"0\",\"20837920\",\"Mon Jun 12 12:51:56 EDT 2023\",\"NO_QUERY\",\"nnonta\",\"There are wayyy too many @kasey79 {}\".format(HASHTAG)),\n",
    "(\"0\",\"20837920\",\"Mon Jun 12 12:53:16 EDT 2023\",\"NO_QUERY\",\"nnonta\",\"@lost_dog should definitely nominate Eddie and Kimathi for the TA awards, they're so helpful {}\".format(HASHTAG)),\n",
    "(\"0\",\"20837920\",\"Mon Jun 12 12:54:44 EDT 2023\",\"NO_QUERY\",\"nnonta\",\"@nessie111 check this out {}\".format(HASHTAG)),\n",
    "(\"0\",\"20837920\",\"Mon Jun 12 12:54:59 EDT 2023\",\"NO_QUERY\",\"nnonta\",\"It was raining and everything was muddy @nuttychris {}\".format(HASHTAG)),\n",
    "(\"0\",\"20837920\",\"Mon Jun 12 12:56:19 EDT 2023\",\"NO_QUERY\",\"nnonta\",\"I need to try that pizza place @sebby_peek {}\".format(HASHTAG)),\n",
    "(\"0\",\"20837920\",\"Mon Jun 12 12:58:07 EDT 2023\",\"NO_QUERY\",\"nnonta\",\"Aww that's really adorable @tweetpet {}\".format(HASHTAG))]\n",
    "print(len(data))"
   ]
  },
  {
   "cell_type": "markdown",
   "id": "37d4b1e8",
   "metadata": {},
   "source": [
    "# Part 2: Load CSV with pyspark\n",
    "Uncomment lines 13-14 if `sc.take(5)` outputs are double quoted"
   ]
  },
  {
   "cell_type": "code",
   "execution_count": 2,
   "id": "ce4a1659",
   "metadata": {
    "scrolled": true
   },
   "outputs": [
    {
     "name": "stderr",
     "output_type": "stream",
     "text": [
      "23/06/13 21:41:06 WARN Utils: Your hostname, Nayeemas-MacBook-Air.local resolves to a loopback address: 127.0.0.1; using 10.0.0.245 instead (on interface en0)\n",
      "23/06/13 21:41:06 WARN Utils: Set SPARK_LOCAL_IP if you need to bind to another address\n",
      "Setting default log level to \"WARN\".\n",
      "To adjust logging level use sc.setLogLevel(newLevel). For SparkR, use setLogLevel(newLevel).\n",
      "23/06/13 21:41:07 WARN NativeCodeLoader: Unable to load native-hadoop library for your platform... using builtin-java classes where applicable\n",
      "                                                                                \r"
     ]
    },
    {
     "data": {
      "text/plain": [
       "[['0',\n",
       "  '1467810369',\n",
       "  'Mon Apr 06 22:19:45 PDT 2009',\n",
       "  'NO_QUERY',\n",
       "  '_TheSpecialOne_',\n",
       "  \"@switchfoot http://twitpic.com/2y1zl - Awww that's a bummer.  You shoulda got David Carr of Third Day to do it. ;D\"],\n",
       " ['0',\n",
       "  '1467810672',\n",
       "  'Mon Apr 06 22:19:49 PDT 2009',\n",
       "  'NO_QUERY',\n",
       "  'scotthamilton',\n",
       "  \"is upset that he can't update his Facebook by texting it... and might cry as a result  School today also. Blah!\"],\n",
       " ['0',\n",
       "  '1467810917',\n",
       "  'Mon Apr 06 22:19:53 PDT 2009',\n",
       "  'NO_QUERY',\n",
       "  'mattycus',\n",
       "  '@Kenichan I dived many times for the ball. Managed to save 50%  The rest go out of bounds'],\n",
       " ['0',\n",
       "  '1467811184',\n",
       "  'Mon Apr 06 22:19:57 PDT 2009',\n",
       "  'NO_QUERY',\n",
       "  'ElleCTF',\n",
       "  'my whole body feels itchy and like its on fire '],\n",
       " ['0',\n",
       "  '1467811193',\n",
       "  'Mon Apr 06 22:19:57 PDT 2009',\n",
       "  'NO_QUERY',\n",
       "  'Karoli',\n",
       "  \"@nationwideclass no it's not behaving at all. i'm mad. why am i here? because I can't see you all over there. \"]]"
      ]
     },
     "execution_count": 2,
     "metadata": {},
     "output_type": "execute_result"
    }
   ],
   "source": [
    "from pyspark.sql import SparkSession\n",
    "\n",
    "spark = SparkSession.builder.appName('SparkExample.com').getOrCreate()\n",
    "#rdd = spark.sparkContext.parallelize(data)\n",
    "# We load the csv into an RDD (Resilient Distributed Dataset) named tweetsCSV\n",
    "sc = spark.sparkContext.textFile(\"hmw3_tweets.csv\")\n",
    "\n",
    "def process_string(s):\n",
    "    split = s.split(',')\n",
    "    if len(split) != 6:\n",
    "        split[5] = ''.join(split[5:]).strip('\"')\n",
    "        split = split[:6]\n",
    "    \n",
    "#     for i in range(6):\n",
    "#         split[i] = split[i][1:-1]\n",
    "    return split\n",
    "sc = sc.map(lambda s: process_string(s))\n",
    "# \"take\" the first 5 items\n",
    "sc.take(5)"
   ]
  },
  {
   "cell_type": "markdown",
   "id": "fa5a21f2",
   "metadata": {},
   "source": [
    "# Part 3: Create a pyspark DataFrame"
   ]
  },
  {
   "cell_type": "code",
   "execution_count": 3,
   "id": "8b97313a",
   "metadata": {},
   "outputs": [
    {
     "name": "stderr",
     "output_type": "stream",
     "text": [
      "[Stage 2:=============================>                             (1 + 1) / 2]\r"
     ]
    },
    {
     "name": "stdout",
     "output_type": "stream",
     "text": [
      "500010\n"
     ]
    },
    {
     "name": "stderr",
     "output_type": "stream",
     "text": [
      "                                                                                \r"
     ]
    }
   ],
   "source": [
    "# Define data columns\n",
    "deptColumns = [\"target\",\"ids\", \"date\", \"flag\", \"user\", \"text\"]\n",
    "# TODO: Create data frame\n",
    "tweetsDF = sc.toDF(deptColumns)\n",
    "#Checking the total number of rows in DF\n",
    "print(tweetsDF.count())"
   ]
  },
  {
   "cell_type": "code",
   "execution_count": 4,
   "id": "325c021b",
   "metadata": {},
   "outputs": [
    {
     "name": "stdout",
     "output_type": "stream",
     "text": [
      "root\n",
      " |-- target: string (nullable = true)\n",
      " |-- ids: string (nullable = true)\n",
      " |-- date: string (nullable = true)\n",
      " |-- flag: string (nullable = true)\n",
      " |-- user: string (nullable = true)\n",
      " |-- text: string (nullable = true)\n",
      "\n"
     ]
    }
   ],
   "source": [
    "# TODO: Visualize the DataFrame schema `printSchema()`\n",
    "tweetsDF.printSchema()\n"
   ]
  },
  {
   "cell_type": "code",
   "execution_count": 5,
   "id": "8d833635",
   "metadata": {
    "scrolled": true
   },
   "outputs": [
    {
     "name": "stderr",
     "output_type": "stream",
     "text": [
      "[Stage 5:>                                                          (0 + 1) / 1]\r"
     ]
    },
    {
     "name": "stdout",
     "output_type": "stream",
     "text": [
      "+------+----------+--------------------+--------+---------------+--------------------+\n",
      "|target|       ids|                date|    flag|           user|                text|\n",
      "+------+----------+--------------------+--------+---------------+--------------------+\n",
      "|     0|1467810369|Mon Apr 06 22:19:...|NO_QUERY|_TheSpecialOne_|@switchfoot http:...|\n",
      "|     0|1467810672|Mon Apr 06 22:19:...|NO_QUERY|  scotthamilton|is upset that he ...|\n",
      "|     0|1467810917|Mon Apr 06 22:19:...|NO_QUERY|       mattycus|@Kenichan I dived...|\n",
      "|     0|1467811184|Mon Apr 06 22:19:...|NO_QUERY|        ElleCTF|my whole body fee...|\n",
      "|     0|1467811193|Mon Apr 06 22:19:...|NO_QUERY|         Karoli|@nationwideclass ...|\n",
      "+------+----------+--------------------+--------+---------------+--------------------+\n",
      "only showing top 5 rows\n",
      "\n"
     ]
    },
    {
     "name": "stderr",
     "output_type": "stream",
     "text": [
      "23/06/13 21:41:25 WARN PythonRunner: Detected deadlock while completing task 0.0 in stage 5 (TID 5): Attempting to kill Python Worker\n",
      "                                                                                \r"
     ]
    }
   ],
   "source": [
    "# TODO: Show the first 5 rows `show(...)`\n",
    "tweetsDF.show(5,truncate=True)"
   ]
  },
  {
   "cell_type": "code",
   "execution_count": 6,
   "id": "3da84b39",
   "metadata": {},
   "outputs": [
    {
     "name": "stderr",
     "output_type": "stream",
     "text": [
      "                                                                                \r"
     ]
    },
    {
     "data": {
      "text/plain": [
       "500010"
      ]
     },
     "execution_count": 6,
     "metadata": {},
     "output_type": "execute_result"
    }
   ],
   "source": [
    "# TODO: Print the total number of rows\n",
    "tweetsDF.count()"
   ]
  },
  {
   "cell_type": "markdown",
   "id": "d3c83b33",
   "metadata": {},
   "source": [
    "# Part 4: Query/Explore your Data\n",
    "## Part 4.1: Using `pyspark.sql.DataFrame.where`"
   ]
  },
  {
   "cell_type": "code",
   "execution_count": 7,
   "id": "f826d4c6",
   "metadata": {},
   "outputs": [
    {
     "name": "stderr",
     "output_type": "stream",
     "text": [
      "                                                                                \r"
     ]
    },
    {
     "name": "stdout",
     "output_type": "stream",
     "text": [
      "+------+--------+----------------------------+--------+------+-------------------------------------------------------------------------------------------------+\n",
      "|target|ids     |date                        |flag    |user  |text                                                                                             |\n",
      "+------+--------+----------------------------+--------+------+-------------------------------------------------------------------------------------------------+\n",
      "|0     |20837920|Mon Jun 12 12:45:09 EDT 2023|NO_QUERY|nnonta|This is my test tweet for this homework @Hollywood_Trey #fail                                    |\n",
      "|0     |20837920|Mon Jun 12 12:49:14 EDT 2023|NO_QUERY|nnonta|Sup @MiDesfileNegro did you see that video I shared? #fail                                       |\n",
      "|0     |20837920|Mon Jun 12 12:51:16 EDT 2023|NO_QUERY|nnonta|OMG @TessMorris you're hilarious #fail                                                           |\n",
      "|0     |20837920|Mon Jun 12 12:51:43 EDT 2023|NO_QUERY|nnonta|Those turtles are so cute @amazingphoebe #fail                                                   |\n",
      "|0     |20837920|Mon Jun 12 12:51:56 EDT 2023|NO_QUERY|nnonta|There are wayyy too many @kasey79 #fail                                                          |\n",
      "|0     |20837920|Mon Jun 12 12:53:16 EDT 2023|NO_QUERY|nnonta|@lost_dog should definitely nominate Eddie and Kimathi for the TA awards they're so helpful #fail|\n",
      "|0     |20837920|Mon Jun 12 12:54:44 EDT 2023|NO_QUERY|nnonta|@nessie111 check this out #fail                                                                  |\n",
      "|0     |20837920|Mon Jun 12 12:54:59 EDT 2023|NO_QUERY|nnonta|It was raining and everything was muddy @nuttychris #fail                                        |\n",
      "|0     |20837920|Mon Jun 12 12:56:19 EDT 2023|NO_QUERY|nnonta|I need to try that pizza place @sebby_peek #fail                                                 |\n",
      "|0     |20837920|Mon Jun 12 12:58:07 EDT 2023|NO_QUERY|nnonta|Aww that's really adorable @tweetpet #fail                                                       |\n",
      "+------+--------+----------------------------+--------+------+-------------------------------------------------------------------------------------------------+\n",
      "\n",
      "None\n"
     ]
    },
    {
     "name": "stderr",
     "output_type": "stream",
     "text": [
      "                                                                                \r"
     ]
    }
   ],
   "source": [
    "# TODO: Print out all the tweets (tweetsDF.text) made by you (tweetsDF.user)\n",
    "print(tweetsDF.where(tweetsDF.user == 'nnonta').show(truncate=False))"
   ]
  },
  {
   "cell_type": "code",
   "execution_count": 8,
   "id": "88566ef1",
   "metadata": {},
   "outputs": [
    {
     "name": "stderr",
     "output_type": "stream",
     "text": [
      "[Stage 11:>                                                         (0 + 2) / 2]\r"
     ]
    },
    {
     "name": "stdout",
     "output_type": "stream",
     "text": [
      "440\n"
     ]
    },
    {
     "name": "stderr",
     "output_type": "stream",
     "text": [
      "                                                                                \r"
     ]
    }
   ],
   "source": [
    "# TODO: Print the combined number of tweets made by 'lost_dog' and 'nuttychris'\n",
    "print(tweetsDF.where(tweetsDF.user.isin(['lost_dog', 'nuttychris'])).count())"
   ]
  },
  {
   "cell_type": "code",
   "execution_count": 9,
   "id": "50beba6b",
   "metadata": {},
   "outputs": [
    {
     "name": "stderr",
     "output_type": "stream",
     "text": [
      "[Stage 14:>                                                         (0 + 2) / 2]\r"
     ]
    },
    {
     "name": "stdout",
     "output_type": "stream",
     "text": [
      "44\n"
     ]
    },
    {
     "name": "stderr",
     "output_type": "stream",
     "text": [
      "                                                                                \r"
     ]
    }
   ],
   "source": [
    "from pyspark.sql.functions import col # might be useful\n",
    "\n",
    "# TODO: Print the number of tweets that mention user 'amazingphoebe'\n",
    "print(tweetsDF.where(tweetsDF.text.contains('amazingphoebe')).count())"
   ]
  },
  {
   "cell_type": "code",
   "execution_count": 10,
   "id": "3e69c46a",
   "metadata": {},
   "outputs": [
    {
     "name": "stderr",
     "output_type": "stream",
     "text": [
      "                                                                                \r"
     ]
    },
    {
     "name": "stdout",
     "output_type": "stream",
     "text": [
      "+-----------+-----+\n",
      "|       user|count|\n",
      "+-----------+-----+\n",
      "|   lost_dog|  338|\n",
      "|   tweetpet|  310|\n",
      "|    webwoke|  264|\n",
      "|mcraddictal|  210|\n",
      "|     wowlew|  210|\n",
      "+-----------+-----+\n",
      "only showing top 5 rows\n",
      "\n"
     ]
    }
   ],
   "source": [
    "# TODO: Print the 5 most active twitter users \n",
    "from pyspark.sql.functions import desc\n",
    "df = tweetsDF.groupBy('user').count().orderBy(desc('count'))\n",
    "df.show(5)"
   ]
  },
  {
   "cell_type": "markdown",
   "id": "4cf5e805",
   "metadata": {},
   "source": [
    "## Part 4.2: Using `spark.sql(...)`"
   ]
  },
  {
   "cell_type": "code",
   "execution_count": 11,
   "id": "7d658dc4",
   "metadata": {},
   "outputs": [],
   "source": [
    "tweetsDF.createOrReplaceTempView(\"tweets\") \n",
    "# register a table called 'tweets' for querying `createOrReplaceTempView(...)`"
   ]
  },
  {
   "cell_type": "code",
   "execution_count": 12,
   "id": "1473d342",
   "metadata": {},
   "outputs": [
    {
     "name": "stderr",
     "output_type": "stream",
     "text": [
      "[Stage 20:>                                                         (0 + 1) / 1]\r"
     ]
    },
    {
     "name": "stdout",
     "output_type": "stream",
     "text": [
      "+---------------+\n",
      "|           user|\n",
      "+---------------+\n",
      "|_TheSpecialOne_|\n",
      "|  scotthamilton|\n",
      "|       mattycus|\n",
      "|        ElleCTF|\n",
      "|         Karoli|\n",
      "+---------------+\n",
      "\n"
     ]
    },
    {
     "name": "stderr",
     "output_type": "stream",
     "text": [
      "23/06/13 21:41:39 WARN PythonRunner: Detected deadlock while completing task 0.0 in stage 20 (TID 25): Attempting to kill Python Worker\n",
      "                                                                                \r"
     ]
    }
   ],
   "source": [
    "# TODO: Select the first 5 entries from the 'user' column\n",
    "# Tutorial code\n",
    "temp_df = spark.sql(\"SELECT user FROM tweets LIMIT 5\")\n",
    "temp_df.show()"
   ]
  },
  {
   "cell_type": "code",
   "execution_count": 13,
   "id": "ea6d9d5e",
   "metadata": {},
   "outputs": [
    {
     "name": "stderr",
     "output_type": "stream",
     "text": [
      "[Stage 21:>                                                         (0 + 2) / 2]\r"
     ]
    },
    {
     "name": "stdout",
     "output_type": "stream",
     "text": [
      "287378\n"
     ]
    },
    {
     "name": "stderr",
     "output_type": "stream",
     "text": [
      "                                                                                \r"
     ]
    }
   ],
   "source": [
    "# TODO: Get the number of distinct/unique users\n",
    "# https://www.w3schools.com/sql/sql_distinct.asp\n",
    "temp_df = spark.sql(\"SELECT DISTINCT user FROM tweets\")\n",
    "print(temp_df.count())"
   ]
  },
  {
   "cell_type": "code",
   "execution_count": 14,
   "id": "f31353b0",
   "metadata": {},
   "outputs": [
    {
     "name": "stderr",
     "output_type": "stream",
     "text": [
      "[Stage 27:>                                                         (0 + 1) / 1]\r"
     ]
    },
    {
     "name": "stdout",
     "output_type": "stream",
     "text": [
      "+------+----------+--------------------+--------+----------+--------------------+\n",
      "|target|       ids|                date|    flag|      user|                text|\n",
      "+------+----------+--------------------+--------+----------+--------------------+\n",
      "|     0|1468989467|Tue Apr 07 04:44:...|NO_QUERY|sebby_peek|@amazingphoebe i ...|\n",
      "|     0|1551269588|Sat Apr 18 08:36:...|NO_QUERY|sebby_peek|@amazingphoebe i ...|\n",
      "|     0|1551546241|Sat Apr 18 09:20:...|NO_QUERY|sebby_peek|@amazingphoebe i ...|\n",
      "|     0|1551799800|Sat Apr 18 10:00:...|NO_QUERY|sebby_peek|@amazingphoebe i ...|\n",
      "|     0|1551870959|Sat Apr 18 10:11:...|NO_QUERY|sebby_peek|@amazingphoebe i ...|\n",
      "|     0|1551939092|Sat Apr 18 10:21:...|NO_QUERY|sebby_peek|@amazingphoebe i ...|\n",
      "|     0|1556117960|Sat Apr 18 21:42:...|NO_QUERY|sebby_peek|@amazingphoebe ye...|\n",
      "|     0|1556977080|Sun Apr 19 01:19:...|NO_QUERY|sebby_peek|@amazingphoebe mu...|\n",
      "|     0|1556996258|Sun Apr 19 01:26:...|NO_QUERY|sebby_peek|@amazingphoebe do...|\n",
      "|     0|1557002751|Sun Apr 19 01:28:...|NO_QUERY|sebby_peek|@amazingphoebe al...|\n",
      "+------+----------+--------------------+--------+----------+--------------------+\n",
      "\n"
     ]
    },
    {
     "name": "stderr",
     "output_type": "stream",
     "text": [
      "23/06/13 21:41:46 WARN PythonRunner: Detected deadlock while completing task 0.0 in stage 27 (TID 34): Attempting to kill Python Worker\n",
      "                                                                                \r"
     ]
    }
   ],
   "source": [
    "# TODO: Show first 10 tweets that mention user 'amazingphoebe'\n",
    "# https://www.w3schools.com/sql/trysql.asp?filename=trysql_op_like\n",
    "temp_df = spark.sql(\"SELECT * FROM tweets WHERE LOWER(text) LIKE '%amazingphoebe%' LIMIT 10\")\n",
    "temp_df.show()"
   ]
  },
  {
   "cell_type": "markdown",
   "id": "dba88217",
   "metadata": {},
   "source": [
    "# Part 5: Hashtag Statistics"
   ]
  },
  {
   "cell_type": "code",
   "execution_count": 15,
   "id": "086ced25",
   "metadata": {},
   "outputs": [
    {
     "name": "stderr",
     "output_type": "stream",
     "text": [
      "[Stage 29:>                                                         (0 + 2) / 2]\r"
     ]
    },
    {
     "name": "stdout",
     "output_type": "stream",
     "text": [
      "10551\n"
     ]
    },
    {
     "name": "stderr",
     "output_type": "stream",
     "text": [
      "                                                                                \r"
     ]
    }
   ],
   "source": [
    "hashTags = sc.flatMap(lambda xs: [x.split(' ') for x in xs]).flatMap(lambda x: x).filter(lambda w: w.startswith(\"#\"))\n",
    "\n",
    "# Print the total number of hashtags found in the dataset\n",
    "hashTags.count()\n",
    "print(hashTags.count())"
   ]
  },
  {
   "cell_type": "code",
   "execution_count": 16,
   "id": "3efaff97",
   "metadata": {
    "scrolled": true
   },
   "outputs": [
    {
     "name": "stderr",
     "output_type": "stream",
     "text": [
      "                                                                                \r"
     ]
    },
    {
     "data": {
      "text/plain": [
       "[('#fb', 586),\n",
       " ('#fail', 168),\n",
       " ('#', 132),\n",
       " ('#asot400', 111),\n",
       " ('#squarespace', 102),\n",
       " ('#iremember', 88),\n",
       " ('#1', 85),\n",
       " ('#e3', 76),\n",
       " ('#2', 75),\n",
       " ('#bgt', 71)]"
      ]
     },
     "execution_count": 16,
     "metadata": {},
     "output_type": "execute_result"
    }
   ],
   "source": [
    "# TODO: Count unique hashtags and sort them in descending order of count\n",
    "#changing each hastag with a tuple, reducing everything and addding the count, then sorting\n",
    "countedHashTags = hashTags.map(lambda w: (w, 1)).reduceByKey(lambda a, b: a + b).sortBy(lambda tup: tup[1], ascending = False)\n",
    "\n",
    "# Print the top 10 hashtags\n",
    "countedHashTags.take(10)"
   ]
  },
  {
   "cell_type": "markdown",
   "id": "2d7ab15b",
   "metadata": {},
   "source": [
    "# Part 6: Create A Mentions Column\n",
    "In this section you will parse the tweet text for mentions (e.g. @tweetpet) and place them in a separate data column"
   ]
  },
  {
   "cell_type": "markdown",
   "id": "e55ee6b2",
   "metadata": {},
   "source": [
    "## Part 6.1: Create a Pandas DataFrame and add Mentions Column"
   ]
  },
  {
   "cell_type": "code",
   "execution_count": 17,
   "id": "f1220af7",
   "metadata": {},
   "outputs": [
    {
     "name": "stderr",
     "output_type": "stream",
     "text": [
      "                                                                                \r"
     ]
    },
    {
     "data": {
      "text/html": [
       "<div>\n",
       "<style scoped>\n",
       "    .dataframe tbody tr th:only-of-type {\n",
       "        vertical-align: middle;\n",
       "    }\n",
       "\n",
       "    .dataframe tbody tr th {\n",
       "        vertical-align: top;\n",
       "    }\n",
       "\n",
       "    .dataframe thead th {\n",
       "        text-align: right;\n",
       "    }\n",
       "</style>\n",
       "<table border=\"1\" class=\"dataframe\">\n",
       "  <thead>\n",
       "    <tr style=\"text-align: right;\">\n",
       "      <th></th>\n",
       "      <th>target</th>\n",
       "      <th>ids</th>\n",
       "      <th>date</th>\n",
       "      <th>flag</th>\n",
       "      <th>user</th>\n",
       "      <th>text</th>\n",
       "    </tr>\n",
       "  </thead>\n",
       "  <tbody>\n",
       "    <tr>\n",
       "      <th>0</th>\n",
       "      <td>0</td>\n",
       "      <td>1467810369</td>\n",
       "      <td>Mon Apr 06 22:19:45 PDT 2009</td>\n",
       "      <td>NO_QUERY</td>\n",
       "      <td>_TheSpecialOne_</td>\n",
       "      <td>@switchfoot http://twitpic.com/2y1zl - Awww th...</td>\n",
       "    </tr>\n",
       "    <tr>\n",
       "      <th>1</th>\n",
       "      <td>0</td>\n",
       "      <td>1467810672</td>\n",
       "      <td>Mon Apr 06 22:19:49 PDT 2009</td>\n",
       "      <td>NO_QUERY</td>\n",
       "      <td>scotthamilton</td>\n",
       "      <td>is upset that he can't update his Facebook by ...</td>\n",
       "    </tr>\n",
       "    <tr>\n",
       "      <th>2</th>\n",
       "      <td>0</td>\n",
       "      <td>1467810917</td>\n",
       "      <td>Mon Apr 06 22:19:53 PDT 2009</td>\n",
       "      <td>NO_QUERY</td>\n",
       "      <td>mattycus</td>\n",
       "      <td>@Kenichan I dived many times for the ball. Man...</td>\n",
       "    </tr>\n",
       "    <tr>\n",
       "      <th>3</th>\n",
       "      <td>0</td>\n",
       "      <td>1467811184</td>\n",
       "      <td>Mon Apr 06 22:19:57 PDT 2009</td>\n",
       "      <td>NO_QUERY</td>\n",
       "      <td>ElleCTF</td>\n",
       "      <td>my whole body feels itchy and like its on fire</td>\n",
       "    </tr>\n",
       "    <tr>\n",
       "      <th>4</th>\n",
       "      <td>0</td>\n",
       "      <td>1467811193</td>\n",
       "      <td>Mon Apr 06 22:19:57 PDT 2009</td>\n",
       "      <td>NO_QUERY</td>\n",
       "      <td>Karoli</td>\n",
       "      <td>@nationwideclass no it's not behaving at all. ...</td>\n",
       "    </tr>\n",
       "  </tbody>\n",
       "</table>\n",
       "</div>"
      ],
      "text/plain": [
       "  target         ids                          date      flag             user  \\\n",
       "0      0  1467810369  Mon Apr 06 22:19:45 PDT 2009  NO_QUERY  _TheSpecialOne_   \n",
       "1      0  1467810672  Mon Apr 06 22:19:49 PDT 2009  NO_QUERY    scotthamilton   \n",
       "2      0  1467810917  Mon Apr 06 22:19:53 PDT 2009  NO_QUERY         mattycus   \n",
       "3      0  1467811184  Mon Apr 06 22:19:57 PDT 2009  NO_QUERY          ElleCTF   \n",
       "4      0  1467811193  Mon Apr 06 22:19:57 PDT 2009  NO_QUERY           Karoli   \n",
       "\n",
       "                                                text  \n",
       "0  @switchfoot http://twitpic.com/2y1zl - Awww th...  \n",
       "1  is upset that he can't update his Facebook by ...  \n",
       "2  @Kenichan I dived many times for the ball. Man...  \n",
       "3    my whole body feels itchy and like its on fire   \n",
       "4  @nationwideclass no it's not behaving at all. ...  "
      ]
     },
     "execution_count": 17,
     "metadata": {},
     "output_type": "execute_result"
    }
   ],
   "source": [
    "# TODO: Convert to a pandas dataframe `toPandas()`\n",
    "tweets_PDF = tweetsDF.toPandas()\n",
    "\n",
    "# Visualize first 5 rows\n",
    "tweets_PDF.head(5)"
   ]
  },
  {
   "cell_type": "code",
   "execution_count": 18,
   "id": "12b8e8bd",
   "metadata": {
    "scrolled": true
   },
   "outputs": [
    {
     "data": {
      "text/html": [
       "<div>\n",
       "<style scoped>\n",
       "    .dataframe tbody tr th:only-of-type {\n",
       "        vertical-align: middle;\n",
       "    }\n",
       "\n",
       "    .dataframe tbody tr th {\n",
       "        vertical-align: top;\n",
       "    }\n",
       "\n",
       "    .dataframe thead th {\n",
       "        text-align: right;\n",
       "    }\n",
       "</style>\n",
       "<table border=\"1\" class=\"dataframe\">\n",
       "  <thead>\n",
       "    <tr style=\"text-align: right;\">\n",
       "      <th></th>\n",
       "      <th>target</th>\n",
       "      <th>ids</th>\n",
       "      <th>date</th>\n",
       "      <th>flag</th>\n",
       "      <th>user</th>\n",
       "      <th>text</th>\n",
       "      <th>mentioned</th>\n",
       "    </tr>\n",
       "  </thead>\n",
       "  <tbody>\n",
       "    <tr>\n",
       "      <th>0</th>\n",
       "      <td>0</td>\n",
       "      <td>1467810369</td>\n",
       "      <td>Mon Apr 06 22:19:45 PDT 2009</td>\n",
       "      <td>NO_QUERY</td>\n",
       "      <td>_TheSpecialOne_</td>\n",
       "      <td>@switchfoot http://twitpic.com/2y1zl - Awww th...</td>\n",
       "      <td>[switchfoot]</td>\n",
       "    </tr>\n",
       "    <tr>\n",
       "      <th>1</th>\n",
       "      <td>0</td>\n",
       "      <td>1467810672</td>\n",
       "      <td>Mon Apr 06 22:19:49 PDT 2009</td>\n",
       "      <td>NO_QUERY</td>\n",
       "      <td>scotthamilton</td>\n",
       "      <td>is upset that he can't update his Facebook by ...</td>\n",
       "      <td>[]</td>\n",
       "    </tr>\n",
       "    <tr>\n",
       "      <th>2</th>\n",
       "      <td>0</td>\n",
       "      <td>1467810917</td>\n",
       "      <td>Mon Apr 06 22:19:53 PDT 2009</td>\n",
       "      <td>NO_QUERY</td>\n",
       "      <td>mattycus</td>\n",
       "      <td>@Kenichan I dived many times for the ball. Man...</td>\n",
       "      <td>[kenichan]</td>\n",
       "    </tr>\n",
       "    <tr>\n",
       "      <th>3</th>\n",
       "      <td>0</td>\n",
       "      <td>1467811184</td>\n",
       "      <td>Mon Apr 06 22:19:57 PDT 2009</td>\n",
       "      <td>NO_QUERY</td>\n",
       "      <td>ElleCTF</td>\n",
       "      <td>my whole body feels itchy and like its on fire</td>\n",
       "      <td>[]</td>\n",
       "    </tr>\n",
       "    <tr>\n",
       "      <th>4</th>\n",
       "      <td>0</td>\n",
       "      <td>1467811193</td>\n",
       "      <td>Mon Apr 06 22:19:57 PDT 2009</td>\n",
       "      <td>NO_QUERY</td>\n",
       "      <td>Karoli</td>\n",
       "      <td>@nationwideclass no it's not behaving at all. ...</td>\n",
       "      <td>[nationwideclass]</td>\n",
       "    </tr>\n",
       "  </tbody>\n",
       "</table>\n",
       "</div>"
      ],
      "text/plain": [
       "  target         ids                          date      flag             user  \\\n",
       "0      0  1467810369  Mon Apr 06 22:19:45 PDT 2009  NO_QUERY  _TheSpecialOne_   \n",
       "1      0  1467810672  Mon Apr 06 22:19:49 PDT 2009  NO_QUERY    scotthamilton   \n",
       "2      0  1467810917  Mon Apr 06 22:19:53 PDT 2009  NO_QUERY         mattycus   \n",
       "3      0  1467811184  Mon Apr 06 22:19:57 PDT 2009  NO_QUERY          ElleCTF   \n",
       "4      0  1467811193  Mon Apr 06 22:19:57 PDT 2009  NO_QUERY           Karoli   \n",
       "\n",
       "                                                text          mentioned  \n",
       "0  @switchfoot http://twitpic.com/2y1zl - Awww th...       [switchfoot]  \n",
       "1  is upset that he can't update his Facebook by ...                 []  \n",
       "2  @Kenichan I dived many times for the ball. Man...         [kenichan]  \n",
       "3    my whole body feels itchy and like its on fire                  []  \n",
       "4  @nationwideclass no it's not behaving at all. ...  [nationwideclass]  "
      ]
     },
     "execution_count": 18,
     "metadata": {},
     "output_type": "execute_result"
    }
   ],
   "source": [
    "# TODO: Create a column which lists the mentions present for each tweet \n",
    "# Tutorial code\n",
    "\n",
    "def addMentionedColumn(df):\n",
    "    def mentionsList(txt):\n",
    "        allWords = [word.strip(\"\"\" ,.:'\\\";\"\"\").lower() for word in txt.split()]\n",
    "        allNames = [word.strip(\"@\") for word in allWords if word.startswith(\"@\")]\n",
    "        uniqueNames = list(set(allNames))\n",
    "        return uniqueNames\n",
    "    \n",
    "    df[\"mentioned\"] = df[\"text\"].apply(mentionsList)\n",
    "\n",
    "addMentionedColumn(tweets_PDF)\n",
    "# Visualize the first 5 rows of this new dataset (should include 'mentioned' column)\n",
    "tweets_PDF.head(5)"
   ]
  },
  {
   "cell_type": "markdown",
   "id": "37701e51",
   "metadata": {},
   "source": [
    "## Part 6.2: Filter out tweets that don't include `HASHTAGS`\n",
    "Use [pandas.DataFrame.loc](https://pandas.pydata.org/docs/reference/api/pandas.DataFrame.loc.html) method to filter pandas dataframe (e.g.,`new_pdf = old_pdf.loc[(old_pdf['user']==\"Karol\")]`)\n",
    "\n",
    "Note that you will need to find out how to search if a column (e.g., tweets_PDF['text']) contains a `HASHTAG`. Refer to [this](https://stackoverflow.com/questions/11350770/filter-pandas-dataframe-by-substring-criteria) stack overflow link\n",
    "\n",
    "** Search for `HASHTAG + \" \"` adding trailing space to only search for whole words"
   ]
  },
  {
   "cell_type": "code",
   "execution_count": 19,
   "id": "b9439b1e",
   "metadata": {},
   "outputs": [
    {
     "name": "stdout",
     "output_type": "stream",
     "text": [
      "target       180\n",
      "ids          180\n",
      "date         180\n",
      "flag         180\n",
      "user         180\n",
      "text         180\n",
      "mentioned    180\n",
      "dtype: int64\n"
     ]
    },
    {
     "data": {
      "text/html": [
       "<div>\n",
       "<style scoped>\n",
       "    .dataframe tbody tr th:only-of-type {\n",
       "        vertical-align: middle;\n",
       "    }\n",
       "\n",
       "    .dataframe tbody tr th {\n",
       "        vertical-align: top;\n",
       "    }\n",
       "\n",
       "    .dataframe thead th {\n",
       "        text-align: right;\n",
       "    }\n",
       "</style>\n",
       "<table border=\"1\" class=\"dataframe\">\n",
       "  <thead>\n",
       "    <tr style=\"text-align: right;\">\n",
       "      <th></th>\n",
       "      <th>target</th>\n",
       "      <th>ids</th>\n",
       "      <th>date</th>\n",
       "      <th>flag</th>\n",
       "      <th>user</th>\n",
       "      <th>text</th>\n",
       "      <th>mentioned</th>\n",
       "    </tr>\n",
       "  </thead>\n",
       "  <tbody>\n",
       "    <tr>\n",
       "      <th>1171</th>\n",
       "      <td>0</td>\n",
       "      <td>1468099958</td>\n",
       "      <td>Mon Apr 06 23:42:46 PDT 2009</td>\n",
       "      <td>NO_QUERY</td>\n",
       "      <td>hypatiadotca</td>\n",
       "      <td>Slideshare's embed code is annoying me.  Sorry about the tiny embed  #fail</td>\n",
       "      <td>[]</td>\n",
       "    </tr>\n",
       "    <tr>\n",
       "      <th>1444</th>\n",
       "      <td>0</td>\n",
       "      <td>1468156574</td>\n",
       "      <td>Tue Apr 07 00:01:29 PDT 2009</td>\n",
       "      <td>NO_QUERY</td>\n",
       "      <td>rschu</td>\n",
       "      <td>It seems that Twitter lost some updates yesterday - again!!  #twitter #fail</td>\n",
       "      <td>[]</td>\n",
       "    </tr>\n",
       "    <tr>\n",
       "      <th>3413</th>\n",
       "      <td>0</td>\n",
       "      <td>1468590446</td>\n",
       "      <td>Tue Apr 07 02:35:41 PDT 2009</td>\n",
       "      <td>NO_QUERY</td>\n",
       "      <td>Morledge</td>\n",
       "      <td>Considering new business name which means new logo and website. Finding it very difficult to pick a name though. Been 2 weeks  #fail</td>\n",
       "      <td>[]</td>\n",
       "    </tr>\n",
       "    <tr>\n",
       "      <th>8121</th>\n",
       "      <td>0</td>\n",
       "      <td>1470072342</td>\n",
       "      <td>Tue Apr 07 08:15:52 PDT 2009</td>\n",
       "      <td>NO_QUERY</td>\n",
       "      <td>mrsnickhodge</td>\n",
       "      <td>Arrrggh #failwhale strikes again</td>\n",
       "      <td>[]</td>\n",
       "    </tr>\n",
       "    <tr>\n",
       "      <th>8573</th>\n",
       "      <td>0</td>\n",
       "      <td>1470241061</td>\n",
       "      <td>Tue Apr 07 08:46:10 PDT 2009</td>\n",
       "      <td>NO_QUERY</td>\n",
       "      <td>mdrisser</td>\n",
       "      <td>Major #failwhale for Twitter today</td>\n",
       "      <td>[]</td>\n",
       "    </tr>\n",
       "  </tbody>\n",
       "</table>\n",
       "</div>"
      ],
      "text/plain": [
       "     target         ids                          date      flag          user  \\\n",
       "1171      0  1468099958  Mon Apr 06 23:42:46 PDT 2009  NO_QUERY  hypatiadotca   \n",
       "1444      0  1468156574  Tue Apr 07 00:01:29 PDT 2009  NO_QUERY         rschu   \n",
       "3413      0  1468590446  Tue Apr 07 02:35:41 PDT 2009  NO_QUERY      Morledge   \n",
       "8121      0  1470072342  Tue Apr 07 08:15:52 PDT 2009  NO_QUERY  mrsnickhodge   \n",
       "8573      0  1470241061  Tue Apr 07 08:46:10 PDT 2009  NO_QUERY      mdrisser   \n",
       "\n",
       "                                                                                                                                      text  \\\n",
       "1171                                                            Slideshare's embed code is annoying me.  Sorry about the tiny embed  #fail   \n",
       "1444                                                           It seems that Twitter lost some updates yesterday - again!!  #twitter #fail   \n",
       "3413  Considering new business name which means new logo and website. Finding it very difficult to pick a name though. Been 2 weeks  #fail   \n",
       "8121                                                                                                     Arrrggh #failwhale strikes again    \n",
       "8573                                                                                                   Major #failwhale for Twitter today    \n",
       "\n",
       "     mentioned  \n",
       "1171        []  \n",
       "1444        []  \n",
       "3413        []  \n",
       "8121        []  \n",
       "8573        []  "
      ]
     },
     "execution_count": 19,
     "metadata": {},
     "output_type": "execute_result"
    }
   ],
   "source": [
    "# TODO: Only store tweets with HASHTAG\n",
    "tweets_PDF_filtered = tweets_PDF.loc[tweets_PDF['text'].str.contains(HASHTAG)]\n",
    "\n",
    "# Print the number of tweets containting the hashtag\n",
    "print(tweets_PDF_filtered.count())\n",
    "\n",
    "# Print the first couple tweets\n",
    "import pandas as pd\n",
    "pd.set_option('display.max_colwidth', None)\n",
    "tweets_PDF_filtered.head(5)"
   ]
  },
  {
   "cell_type": "markdown",
   "id": "575d0fb6",
   "metadata": {},
   "source": [
    "# Part 7: Graph Nodes\n",
    "## Part 7.1: Create graph of mentions"
   ]
  },
  {
   "cell_type": "code",
   "execution_count": 20,
   "id": "22b7afd8",
   "metadata": {},
   "outputs": [],
   "source": [
    "import networkx as nx\n",
    "# TODO: Create a graph of user nodes linked by mentions (Tutorial code)\n",
    "\n",
    "def mentionGraph(df):\n",
    "    g = nx.Graph()\n",
    "    \n",
    "    for  (index, target, ids, date, flag, user, text, mentionedUsers) in df.itertuples():\n",
    "        for mentionedUser in mentionedUsers: \n",
    "            if (user in g) and (mentionedUser in g[user]): #only looking at user and mentioned user\n",
    "                g[user][mentionedUser][\"numberMentions\"] += 1\n",
    "            else:\n",
    "                g.add_edge(user, mentionedUser, numberMentions=1)\n",
    "    \n",
    "    return g\n",
    "\n",
    "hashtagGraph = mentionGraph(tweets_PDF_filtered)\n"
   ]
  },
  {
   "cell_type": "code",
   "execution_count": 21,
   "id": "6b9ed3a5",
   "metadata": {},
   "outputs": [
    {
     "data": {
      "text/plain": [
       "10"
      ]
     },
     "execution_count": 21,
     "metadata": {},
     "output_type": "execute_result"
    }
   ],
   "source": [
    "# Print the number of nodes attached to your username (Tutorial code)\n",
    "nx.degree(hashtagGraph,'nnonta')"
   ]
  },
  {
   "cell_type": "markdown",
   "id": "a79be7ac",
   "metadata": {},
   "source": [
    "## Part 7.1: Visualize graph of mentions"
   ]
  },
  {
   "cell_type": "code",
   "execution_count": 43,
   "id": "272e2b41",
   "metadata": {},
   "outputs": [
    {
     "data": {
      "text/html": [
       "        <script type=\"text/javascript\">\n",
       "        window.PlotlyConfig = {MathJaxConfig: 'local'};\n",
       "        if (window.MathJax && window.MathJax.Hub && window.MathJax.Hub.Config) {window.MathJax.Hub.Config({SVG: {font: \"STIX-Web\"}});}\n",
       "        if (typeof require !== 'undefined') {\n",
       "        require.undef(\"plotly\");\n",
       "        requirejs.config({\n",
       "            paths: {\n",
       "                'plotly': ['https://cdn.plot.ly/plotly-2.24.1.min']\n",
       "            }\n",
       "        });\n",
       "        require(['plotly'], function(Plotly) {\n",
       "            window._Plotly = Plotly;\n",
       "        });\n",
       "        }\n",
       "        </script>\n",
       "        "
      ]
     },
     "metadata": {},
     "output_type": "display_data"
    },
    {
     "data": {
      "text/plain": [
       "(-8.644280191091848, 0.29434843699984803)"
      ]
     },
     "execution_count": 43,
     "metadata": {},
     "output_type": "execute_result"
    }
   ],
   "source": [
    "from plotly.offline import download_plotlyjs, init_notebook_mode, plot, iplot\n",
    "from plotly.graph_objs import Scatter, Layout, Figure\n",
    "\n",
    "init_notebook_mode(connected=True)\n",
    "\n",
    "import random\n",
    "random.seed(0) # deterministic\n",
    "def addRandomPositions(graph):\n",
    "    posDict = dict((node,(random.gauss(0,10),random.gauss(0,10))) for node in graph.nodes())\n",
    "    nx.set_node_attributes(graph, posDict, \"pos\")\n",
    "    \n",
    "addRandomPositions(hashtagGraph)\n",
    "\n",
    "# TODO: Print your node's position using the 'pos' attributed added to the graph (Tutorial code)\n",
    "nx.get_node_attributes(hashtagGraph, 'pos')['nnonta']"
   ]
  },
  {
   "cell_type": "code",
   "execution_count": 44,
   "id": "272b0f24",
   "metadata": {},
   "outputs": [
    {
     "ename": "ValueError",
     "evalue": "Mime type rendering requires nbformat>=4.2.0 but it is not installed",
     "output_type": "error",
     "traceback": [
      "\u001b[0;31m---------------------------------------------------------------------------\u001b[0m",
      "\u001b[0;31mValueError\u001b[0m                                Traceback (most recent call last)",
      "Cell \u001b[0;32mIn[44], line 39\u001b[0m\n\u001b[1;32m     36\u001b[0m     fig \u001b[38;5;241m=\u001b[39m Figure(data\u001b[38;5;241m=\u001b[39mscatters, layout\u001b[38;5;241m=\u001b[39mlayout)\n\u001b[1;32m     37\u001b[0m     iplot(fig, show_link\u001b[38;5;241m=\u001b[39m\u001b[38;5;28;01mFalse\u001b[39;00m )\n\u001b[0;32m---> 39\u001b[0m \u001b[43mplotNetwork\u001b[49m\u001b[43m(\u001b[49m\u001b[43mhashtagGraph\u001b[49m\u001b[43m)\u001b[49m\n",
      "Cell \u001b[0;32mIn[44], line 37\u001b[0m, in \u001b[0;36mplotNetwork\u001b[0;34m(graph)\u001b[0m\n\u001b[1;32m     35\u001b[0m layout \u001b[38;5;241m=\u001b[39m Layout(showlegend\u001b[38;5;241m=\u001b[39m\u001b[38;5;28;01mFalse\u001b[39;00m)\n\u001b[1;32m     36\u001b[0m fig \u001b[38;5;241m=\u001b[39m Figure(data\u001b[38;5;241m=\u001b[39mscatters, layout\u001b[38;5;241m=\u001b[39mlayout)\n\u001b[0;32m---> 37\u001b[0m \u001b[43miplot\u001b[49m\u001b[43m(\u001b[49m\u001b[43mfig\u001b[49m\u001b[43m,\u001b[49m\u001b[43m \u001b[49m\u001b[43mshow_link\u001b[49m\u001b[38;5;241;43m=\u001b[39;49m\u001b[38;5;28;43;01mFalse\u001b[39;49;00m\u001b[43m \u001b[49m\u001b[43m)\u001b[49m\n",
      "File \u001b[0;32m~/opt/anaconda3/envs/pyspark/lib/python3.10/site-packages/plotly/offline/offline.py:392\u001b[0m, in \u001b[0;36miplot\u001b[0;34m(figure_or_data, show_link, link_text, validate, image, filename, image_width, image_height, config, auto_play, animation_opts)\u001b[0m\n\u001b[1;32m    387\u001b[0m post_script \u001b[39m=\u001b[39m build_save_image_post_script(\n\u001b[1;32m    388\u001b[0m     image, filename, image_height, image_width, \u001b[39m\"\u001b[39m\u001b[39miplot\u001b[39m\u001b[39m\"\u001b[39m\n\u001b[1;32m    389\u001b[0m )\n\u001b[1;32m    391\u001b[0m \u001b[39m# Show figure\u001b[39;00m\n\u001b[0;32m--> 392\u001b[0m pio\u001b[39m.\u001b[39;49mshow(\n\u001b[1;32m    393\u001b[0m     figure,\n\u001b[1;32m    394\u001b[0m     validate\u001b[39m=\u001b[39;49mvalidate,\n\u001b[1;32m    395\u001b[0m     config\u001b[39m=\u001b[39;49mconfig,\n\u001b[1;32m    396\u001b[0m     auto_play\u001b[39m=\u001b[39;49mauto_play,\n\u001b[1;32m    397\u001b[0m     post_script\u001b[39m=\u001b[39;49mpost_script,\n\u001b[1;32m    398\u001b[0m     animation_opts\u001b[39m=\u001b[39;49manimation_opts,\n\u001b[1;32m    399\u001b[0m )\n",
      "File \u001b[0;32m~/opt/anaconda3/envs/pyspark/lib/python3.10/site-packages/plotly/io/_renderers.py:396\u001b[0m, in \u001b[0;36mshow\u001b[0;34m(fig, renderer, validate, **kwargs)\u001b[0m\n\u001b[1;32m    391\u001b[0m         \u001b[39mraise\u001b[39;00m \u001b[39mValueError\u001b[39;00m(\n\u001b[1;32m    392\u001b[0m             \u001b[39m\"\u001b[39m\u001b[39mMime type rendering requires ipython but it is not installed\u001b[39m\u001b[39m\"\u001b[39m\n\u001b[1;32m    393\u001b[0m         )\n\u001b[1;32m    395\u001b[0m     \u001b[39mif\u001b[39;00m \u001b[39mnot\u001b[39;00m nbformat \u001b[39mor\u001b[39;00m Version(nbformat\u001b[39m.\u001b[39m__version__) \u001b[39m<\u001b[39m Version(\u001b[39m\"\u001b[39m\u001b[39m4.2.0\u001b[39m\u001b[39m\"\u001b[39m):\n\u001b[0;32m--> 396\u001b[0m         \u001b[39mraise\u001b[39;00m \u001b[39mValueError\u001b[39;00m(\n\u001b[1;32m    397\u001b[0m             \u001b[39m\"\u001b[39m\u001b[39mMime type rendering requires nbformat>=4.2.0 but it is not installed\u001b[39m\u001b[39m\"\u001b[39m\n\u001b[1;32m    398\u001b[0m         )\n\u001b[1;32m    400\u001b[0m     ipython_display\u001b[39m.\u001b[39mdisplay(bundle, raw\u001b[39m=\u001b[39m\u001b[39mTrue\u001b[39;00m)\n\u001b[1;32m    402\u001b[0m \u001b[39m# external renderers\u001b[39;00m\n",
      "\u001b[0;31mValueError\u001b[0m: Mime type rendering requires nbformat>=4.2.0 but it is not installed"
     ]
    }
   ],
   "source": [
    "def plotNetwork(graph):\n",
    "    scatters=[]\n",
    "\n",
    "    for (node1, node2) in graph.edges():\n",
    "        # NOTE: node1, and node2 are the usernames\n",
    "        # TODO: Change the color of the edge line if one of the nodes is yours\n",
    "        color = 'blue'\n",
    "        x0, y0 = graph.nodes[node1]['pos']\n",
    "        x1, y1 = graph.nodes[node2]['pos']\n",
    "        edgeWidth = graph[node1][node2]['numberMentions']\n",
    "        s = Scatter(\n",
    "                x=[x0, x1],\n",
    "                y=[y0, y1],\n",
    "                hoverinfo='none',\n",
    "                mode='lines', \n",
    "                line=Line(width=1 ,color=color))\n",
    "        scatters.append(s)\n",
    "\n",
    "    for node in graph.nodes():\n",
    "        # TODO: Change the color of your node\n",
    "        color = 'red'\n",
    "        xPos, yPos = graph.nodes[node]['pos']\n",
    "        s = Scatter(\n",
    "                x=[xPos], \n",
    "                y=[yPos], \n",
    "                hoverinfo='name',\n",
    "                name=node,\n",
    "                mode='markers', \n",
    "                marker=dict(\n",
    "                    color=color, \n",
    "                    size=10,         \n",
    "                    line=dict(width=2)))\n",
    "        scatters.append(s)\n",
    "    \n",
    "    layout = Layout(showlegend=False)\n",
    "    fig = Figure(data=scatters, layout=layout)\n",
    "    iplot(fig, show_link=False )\n",
    "\n",
    "plotNetwork(hashtagGraph)"
   ]
  }
 ],
 "metadata": {
  "kernelspec": {
   "display_name": "Python 3.10.11 ('pyspark')",
   "language": "python",
   "name": "python3"
  },
  "language_info": {
   "codemirror_mode": {
    "name": "ipython",
    "version": 3
   },
   "file_extension": ".py",
   "mimetype": "text/x-python",
   "name": "python",
   "nbconvert_exporter": "python",
   "pygments_lexer": "ipython3",
   "version": "3.10.11"
  },
  "vscode": {
   "interpreter": {
    "hash": "092769fe138e3a162ee8111577aebfc10bed72d6e493c37e0c6c133e8bf81378"
   }
  }
 },
 "nbformat": 4,
 "nbformat_minor": 5
}
