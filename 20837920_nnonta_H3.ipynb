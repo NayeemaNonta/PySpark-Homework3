{
 "cells": [
  {
   "attachments": {},
   "cell_type": "markdown",
   "id": "f6a3dccc",
   "metadata": {},
   "source": [
    "# Homework 3 Instructions\n",
    "The goal for this homework is for you to interact with python libraries that facilitate data manipulation and analysis. This homework closely follows the 2023/06/05 [pyspark tutorial](https://github.com/jmpark0808/pyspark/blob/hmw3/pyspark.ipynb).\n",
    "\n",
    "You will be analyzing a 500,010 tweet dataset (10 of which you will make yourself in **Part 1**). \n",
    "\n",
    "\n",
    "You'll be asked to load the data with pyspark, answer questions about the dataset and then finally \n",
    "visualizing connections between your tweets and mentions based on a hashtag.\n",
    "\n",
    "## Submission Setup\n",
    "1. Rename this file as \"\\<student_id\\>_\\<username\\>_H3\"\n",
    "2. Preview this notebook as an HTML file, i.e., File -> Print Preview\n",
    "3. `Cmd + P` to get the printing prompt but save the file as **PDF**\n",
    "4. Submit this renamed file to CrowdMark\n",
    "    - ***Make sure that the submission file includes the cell outputs***\n",
    "\n",
    "\n",
    "## Tips\n",
    "- Refer heavily to the 2023/06/05 tutorial code since this homework is a slight derivation of it\n",
    "- Refer to documentation for useful methods (e.g., [pyspark.sql.DataFrame](https://spark.apache.org/docs/3.1.1/api/python/reference/api/pyspark.sql.DataFrame.html)) and we have provided some useful links in this notebook\n",
    "- We are evaluating the cell outputs\n",
    "- Ask questions in piazza and contribute to other peoples posts (anonymously if you are too shy)\n"
   ]
  },
  {
   "attachments": {},
   "cell_type": "markdown",
   "id": "643c5e94",
   "metadata": {},
   "source": [
    "# Part 0: Setup\n",
    "\n",
    "### Install Required Packages\n",
    "`pip install -r requirements.txt`\n",
    "\n",
    "Or I suggest installing these in a python virtual environment\n",
    "```bash\n",
    "mkdir envs\n",
    "cd envs\n",
    "virtualenv msci436 -p python3\n",
    "source envs/msci436/bin/activate # activate virtual env\n",
    "pip install -r requirements.txt\n",
    "```\n",
    "\n",
    "### Check if you have Java\n",
    "#### Linux\n",
    "`!java -version`\n",
    "\n",
    "If you do not have java installed, run\n",
    "```\n",
    "sudo apt-get update\n",
    "sudo apt-get install openjdk-8-jdk\n",
    "```\n",
    "\n",
    "#### macOS\n",
    "[Here](https://mkyong.com/java/how-to-install-java-on-mac-osx/#homebrew-install-latest-java-on-macos) is the brief guide but note that if `/usr/local/Cellar` doesn't exist for you, follow the bellow steps\n",
    "\n",
    "1. Install java `brew install java`\n",
    "2. View java symbolic link instructions `brew info java`\n",
    "3. Execute the command under \"==> Caveats\", (for me it's `sudo ln -sfn /opt/homebrew/opt/openjdk/libexec/openjdk.jdk /Library/Java/JavaVirtualMachines/openjdk.jdk`)\n",
    "4. Validate that everything works with `java -version`"
   ]
  },
  {
   "attachments": {},
   "cell_type": "markdown",
   "id": "bbf74295",
   "metadata": {},
   "source": [
    "# Part 1: Data Creation\n",
    "In this part you will add 10 more tweets to [hmw3_tweets.zip](https://github.com/jmpark0808/pyspark/blob/hmw3/hmw3_tweets.zip) (download and unzip it) which containes the first 500,000 tweets from the [Sentiment140](https://www.kaggle.com/datasets/kazanova/sentiment140) dataset. \n",
    "\n",
    "1. Use your student number as the 'id' (second column) and your username as the 'user' (fifth column)\n",
    "2. Create tweets (10 total) mentioning (1 mention per tweet):\n",
    "    - <span style=\"color:blue\">{'Hollywood_Trey', 'MiDesfileNegro', 'TessMorris', 'amazingphoebe', 'kasey79', 'lost_dog', 'nessie111', 'nuttychris', 'sebby_peek', 'tweetpet'}\n",
    "    - Example; \"@Hollywood_Trey We should definitely nominate Eddie and Kimathi for the TA awards\"\n",
    "3. Include hashtag (defined below) in all your tweets \n",
    "\n",
    "This will be your personal data csv for this homework"
   ]
  },
  {
   "cell_type": "code",
   "execution_count": 25,
   "id": "ff42795d",
   "metadata": {},
   "outputs": [],
   "source": [
    "HASHTAG = \"#fail\"\n",
    "#Data added manually to hmw3_tweets.csv file"
   ]
  },
  {
   "attachments": {},
   "cell_type": "markdown",
   "id": "37d4b1e8",
   "metadata": {},
   "source": [
    "# Part 2: Load CSV with pyspark\n",
    "Uncomment lines 13-14 if `sc.take(5)` outputs are double quoted"
   ]
  },
  {
   "cell_type": "code",
   "execution_count": 2,
   "id": "ce4a1659",
   "metadata": {
    "scrolled": true
   },
   "outputs": [
    {
     "name": "stderr",
     "output_type": "stream",
     "text": [
      "Setting default log level to \"WARN\".\n",
      "To adjust logging level use sc.setLogLevel(newLevel). For SparkR, use setLogLevel(newLevel).\n",
      "23/06/15 11:25:57 WARN NativeCodeLoader: Unable to load native-hadoop library for your platform... using builtin-java classes where applicable\n",
      "                                                                                \r"
     ]
    },
    {
     "data": {
      "text/plain": [
       "[['0',\n",
       "  '1467810369',\n",
       "  'Mon Apr 06 22:19:45 PDT 2009',\n",
       "  'NO_QUERY',\n",
       "  '_TheSpecialOne_',\n",
       "  \"@switchfoot http://twitpic.com/2y1zl - Awww that's a bummer.  You shoulda got David Carr of Third Day to do it. ;D\"],\n",
       " ['0',\n",
       "  '1467810672',\n",
       "  'Mon Apr 06 22:19:49 PDT 2009',\n",
       "  'NO_QUERY',\n",
       "  'scotthamilton',\n",
       "  \"is upset that he can't update his Facebook by texting it... and might cry as a result  School today also. Blah!\"],\n",
       " ['0',\n",
       "  '1467810917',\n",
       "  'Mon Apr 06 22:19:53 PDT 2009',\n",
       "  'NO_QUERY',\n",
       "  'mattycus',\n",
       "  '@Kenichan I dived many times for the ball. Managed to save 50%  The rest go out of bounds'],\n",
       " ['0',\n",
       "  '1467811184',\n",
       "  'Mon Apr 06 22:19:57 PDT 2009',\n",
       "  'NO_QUERY',\n",
       "  'ElleCTF',\n",
       "  'my whole body feels itchy and like its on fire '],\n",
       " ['0',\n",
       "  '1467811193',\n",
       "  'Mon Apr 06 22:19:57 PDT 2009',\n",
       "  'NO_QUERY',\n",
       "  'Karoli',\n",
       "  \"@nationwideclass no it's not behaving at all. i'm mad. why am i here? because I can't see you all over there. \"]]"
      ]
     },
     "execution_count": 2,
     "metadata": {},
     "output_type": "execute_result"
    }
   ],
   "source": [
    "from pyspark.sql import SparkSession\n",
    "\n",
    "spark = SparkSession.builder.appName('SparkExample.com').getOrCreate()\n",
    "#rdd = spark.sparkContext.parallelize(data)\n",
    "# We load the csv into an RDD (Resilient Distributed Dataset) named tweetsCSV\n",
    "sc = spark.sparkContext.textFile(\"hmw3_tweets.csv\")\n",
    "\n",
    "def process_string(s):\n",
    "    split = s.split(',')\n",
    "    if len(split) != 6:\n",
    "        split[5] = ''.join(split[5:]).strip('\"')\n",
    "        split = split[:6]\n",
    "    \n",
    "#     for i in range(6):\n",
    "#         split[i] = split[i][1:-1]\n",
    "    return split\n",
    "sc = sc.map(lambda s: process_string(s))\n",
    "# \"take\" the first 5 items\n",
    "sc.take(5)"
   ]
  },
  {
   "attachments": {},
   "cell_type": "markdown",
   "id": "fa5a21f2",
   "metadata": {},
   "source": [
    "# Part 3: Create a pyspark DataFrame"
   ]
  },
  {
   "cell_type": "code",
   "execution_count": 3,
   "id": "8b97313a",
   "metadata": {},
   "outputs": [
    {
     "name": "stderr",
     "output_type": "stream",
     "text": [
      "[Stage 2:>                                                          (0 + 2) / 2]\r"
     ]
    },
    {
     "name": "stdout",
     "output_type": "stream",
     "text": [
      "500010\n"
     ]
    },
    {
     "name": "stderr",
     "output_type": "stream",
     "text": [
      "                                                                                \r"
     ]
    }
   ],
   "source": [
    "# Define data columns\n",
    "deptColumns = [\"target\",\"ids\", \"date\", \"flag\", \"user\", \"text\"]\n",
    "# TODO: Create data frame\n",
    "tweetsDF = sc.toDF(deptColumns)\n",
    "#Checking the total number of rows in DF\n",
    "print(tweetsDF.count())"
   ]
  },
  {
   "cell_type": "code",
   "execution_count": 4,
   "id": "325c021b",
   "metadata": {},
   "outputs": [
    {
     "name": "stdout",
     "output_type": "stream",
     "text": [
      "root\n",
      " |-- target: string (nullable = true)\n",
      " |-- ids: string (nullable = true)\n",
      " |-- date: string (nullable = true)\n",
      " |-- flag: string (nullable = true)\n",
      " |-- user: string (nullable = true)\n",
      " |-- text: string (nullable = true)\n",
      "\n"
     ]
    }
   ],
   "source": [
    "# TODO: Visualize the DataFrame schema `printSchema()`\n",
    "tweetsDF.printSchema()\n"
   ]
  },
  {
   "cell_type": "code",
   "execution_count": 5,
   "id": "8d833635",
   "metadata": {
    "scrolled": true
   },
   "outputs": [
    {
     "name": "stderr",
     "output_type": "stream",
     "text": [
      "23/06/15 11:26:15 WARN PythonRunner: Detected deadlock while completing task 0.0 in stage 5 (TID 5): Attempting to kill Python Worker\n"
     ]
    },
    {
     "name": "stdout",
     "output_type": "stream",
     "text": [
      "+------+----------+--------------------+--------+---------------+--------------------+\n",
      "|target|       ids|                date|    flag|           user|                text|\n",
      "+------+----------+--------------------+--------+---------------+--------------------+\n",
      "|     0|1467810369|Mon Apr 06 22:19:...|NO_QUERY|_TheSpecialOne_|@switchfoot http:...|\n",
      "|     0|1467810672|Mon Apr 06 22:19:...|NO_QUERY|  scotthamilton|is upset that he ...|\n",
      "|     0|1467810917|Mon Apr 06 22:19:...|NO_QUERY|       mattycus|@Kenichan I dived...|\n",
      "|     0|1467811184|Mon Apr 06 22:19:...|NO_QUERY|        ElleCTF|my whole body fee...|\n",
      "|     0|1467811193|Mon Apr 06 22:19:...|NO_QUERY|         Karoli|@nationwideclass ...|\n",
      "+------+----------+--------------------+--------+---------------+--------------------+\n",
      "only showing top 5 rows\n",
      "\n"
     ]
    },
    {
     "name": "stderr",
     "output_type": "stream",
     "text": [
      "                                                                                \r"
     ]
    }
   ],
   "source": [
    "# TODO: Show the first 5 rows `show(...)`\n",
    "tweetsDF.show(5,truncate=True)"
   ]
  },
  {
   "cell_type": "code",
   "execution_count": 6,
   "id": "3da84b39",
   "metadata": {},
   "outputs": [
    {
     "name": "stderr",
     "output_type": "stream",
     "text": [
      "                                                                                \r"
     ]
    },
    {
     "data": {
      "text/plain": [
       "500010"
      ]
     },
     "execution_count": 6,
     "metadata": {},
     "output_type": "execute_result"
    }
   ],
   "source": [
    "# TODO: Print the total number of rows\n",
    "tweetsDF.count()"
   ]
  },
  {
   "attachments": {},
   "cell_type": "markdown",
   "id": "d3c83b33",
   "metadata": {},
   "source": [
    "# Part 4: Query/Explore your Data\n",
    "## Part 4.1: Using `pyspark.sql.DataFrame.where`"
   ]
  },
  {
   "cell_type": "code",
   "execution_count": 27,
   "id": "f826d4c6",
   "metadata": {},
   "outputs": [
    {
     "name": "stderr",
     "output_type": "stream",
     "text": [
      "                                                                                \r"
     ]
    },
    {
     "name": "stdout",
     "output_type": "stream",
     "text": [
      "+--------------------------------------------------------------------------------------------------+\n",
      "|text                                                                                              |\n",
      "+--------------------------------------------------------------------------------------------------+\n",
      "|This is my test tweet for this homework #fail @Hollywood_Trey                                     |\n",
      "|Sup @MiDesfileNegro #fail did you see that video I shared?                                        |\n",
      "|OMG @TessMorris #fail you're hilarious                                                            |\n",
      "|Those turtles are so cute  #fail @amazingphoebe                                                   |\n",
      "|There are wayyy too many #fail @kasey79                                                           |\n",
      "|@lost_dog should definitely nominate Eddie and Kimathi for the TA awards #fail they're so helpful |\n",
      "|@nessie111 #fail check this out                                                                   |\n",
      "|It was raining and everything was #fail muddy @nuttychris                                         |\n",
      "|#fail I need to try that pizza place @sebby_peek                                                  |\n",
      "|Aww that's really #fail adorable @tweetpet                                                        |\n",
      "+--------------------------------------------------------------------------------------------------+\n",
      "\n",
      "None\n"
     ]
    }
   ],
   "source": [
    "# TODO: Print out all the tweets (tweetsDF.text) made by you (tweetsDF.user)\n",
    "print(tweetsDF.where(tweetsDF.user == 'nnonta').select(tweetsDF.text).show(truncate=False))"
   ]
  },
  {
   "cell_type": "code",
   "execution_count": 8,
   "id": "88566ef1",
   "metadata": {},
   "outputs": [
    {
     "name": "stderr",
     "output_type": "stream",
     "text": [
      "[Stage 11:>                                                         (0 + 2) / 2]\r"
     ]
    },
    {
     "name": "stdout",
     "output_type": "stream",
     "text": [
      "440\n"
     ]
    },
    {
     "name": "stderr",
     "output_type": "stream",
     "text": [
      "                                                                                \r"
     ]
    }
   ],
   "source": [
    "# TODO: Print the combined number of tweets made by 'lost_dog' and 'nuttychris'\n",
    "print(tweetsDF.where(tweetsDF.user.isin(['lost_dog', 'nuttychris'])).count())"
   ]
  },
  {
   "cell_type": "code",
   "execution_count": 9,
   "id": "50beba6b",
   "metadata": {},
   "outputs": [
    {
     "name": "stderr",
     "output_type": "stream",
     "text": [
      "[Stage 14:=============================>                            (1 + 1) / 2]\r"
     ]
    },
    {
     "name": "stdout",
     "output_type": "stream",
     "text": [
      "44\n"
     ]
    },
    {
     "name": "stderr",
     "output_type": "stream",
     "text": [
      "                                                                                \r"
     ]
    }
   ],
   "source": [
    "from pyspark.sql.functions import col # might be useful\n",
    "\n",
    "# TODO: Print the number of tweets that mention user 'amazingphoebe'\n",
    "print(tweetsDF.where(tweetsDF.text.contains('amazingphoebe')).count())"
   ]
  },
  {
   "cell_type": "code",
   "execution_count": 10,
   "id": "3e69c46a",
   "metadata": {},
   "outputs": [
    {
     "name": "stderr",
     "output_type": "stream",
     "text": [
      "[Stage 17:=============================>                            (1 + 1) / 2]\r"
     ]
    },
    {
     "name": "stdout",
     "output_type": "stream",
     "text": [
      "+-----------+-----+\n",
      "|       user|count|\n",
      "+-----------+-----+\n",
      "|   lost_dog|  338|\n",
      "|   tweetpet|  310|\n",
      "|    webwoke|  264|\n",
      "|mcraddictal|  210|\n",
      "|     wowlew|  210|\n",
      "+-----------+-----+\n",
      "only showing top 5 rows\n",
      "\n"
     ]
    },
    {
     "name": "stderr",
     "output_type": "stream",
     "text": [
      "                                                                                \r"
     ]
    }
   ],
   "source": [
    "# TODO: Print the 5 most active twitter users \n",
    "from pyspark.sql.functions import desc\n",
    "df = tweetsDF.groupBy('user').count().orderBy(desc('count'))\n",
    "df.show(5)"
   ]
  },
  {
   "cell_type": "code",
   "execution_count": null,
   "id": "fa033143",
   "metadata": {},
   "outputs": [],
   "source": []
  },
  {
   "attachments": {},
   "cell_type": "markdown",
   "id": "4cf5e805",
   "metadata": {},
   "source": [
    "## Part 4.2: Using `spark.sql(...)`"
   ]
  },
  {
   "cell_type": "code",
   "execution_count": 11,
   "id": "7d658dc4",
   "metadata": {},
   "outputs": [],
   "source": [
    "tweetsDF.createOrReplaceTempView(\"tweets\") \n",
    "# register a table called 'tweets' for querying `createOrReplaceTempView(...)`"
   ]
  },
  {
   "cell_type": "code",
   "execution_count": 12,
   "id": "1473d342",
   "metadata": {},
   "outputs": [
    {
     "name": "stderr",
     "output_type": "stream",
     "text": [
      "23/06/15 11:26:30 WARN PythonRunner: Detected deadlock while completing task 0.0 in stage 20 (TID 25): Attempting to kill Python Worker\n",
      "                                                                                \r"
     ]
    },
    {
     "name": "stdout",
     "output_type": "stream",
     "text": [
      "+---------------+\n",
      "|           user|\n",
      "+---------------+\n",
      "|_TheSpecialOne_|\n",
      "|  scotthamilton|\n",
      "|       mattycus|\n",
      "|        ElleCTF|\n",
      "|         Karoli|\n",
      "+---------------+\n",
      "\n"
     ]
    }
   ],
   "source": [
    "# TODO: Select the first 5 entries from the 'user' column\n",
    "# Tutorial code\n",
    "temp_df = spark.sql(\"SELECT user FROM tweets LIMIT 5\")\n",
    "temp_df.show()"
   ]
  },
  {
   "cell_type": "code",
   "execution_count": 13,
   "id": "ea6d9d5e",
   "metadata": {},
   "outputs": [
    {
     "name": "stderr",
     "output_type": "stream",
     "text": [
      "[Stage 21:>                                                         (0 + 2) / 2]\r"
     ]
    },
    {
     "name": "stdout",
     "output_type": "stream",
     "text": [
      "287378\n"
     ]
    },
    {
     "name": "stderr",
     "output_type": "stream",
     "text": [
      "                                                                                \r"
     ]
    }
   ],
   "source": [
    "# TODO: Get the number of distinct/unique users\n",
    "# https://www.w3schools.com/sql/sql_distinct.asp\n",
    "temp_df = spark.sql(\"SELECT DISTINCT user FROM tweets\")\n",
    "print(temp_df.count())"
   ]
  },
  {
   "cell_type": "code",
   "execution_count": 26,
   "id": "f31353b0",
   "metadata": {},
   "outputs": [
    {
     "name": "stderr",
     "output_type": "stream",
     "text": [
      "23/06/15 11:39:31 WARN PythonRunner: Detected deadlock while completing task 0.0 in stage 38 (TID 50): Attempting to kill Python Worker\n",
      "                                                                                \r"
     ]
    },
    {
     "name": "stdout",
     "output_type": "stream",
     "text": [
      "+--------------------+\n",
      "|                text|\n",
      "+--------------------+\n",
      "|@amazingphoebe i ...|\n",
      "|@amazingphoebe i ...|\n",
      "|@amazingphoebe i ...|\n",
      "|@amazingphoebe i ...|\n",
      "|@amazingphoebe i ...|\n",
      "|@amazingphoebe i ...|\n",
      "|@amazingphoebe ye...|\n",
      "|@amazingphoebe mu...|\n",
      "|@amazingphoebe do...|\n",
      "|@amazingphoebe al...|\n",
      "+--------------------+\n",
      "\n"
     ]
    }
   ],
   "source": [
    "# TODO: Show first 10 tweets that mention user 'amazingphoebe'\n",
    "# https://www.w3schools.com/sql/trysql.asp?filename=trysql_op_like\n",
    "temp_df = spark.sql(\"SELECT text FROM tweets WHERE LOWER(text) LIKE '%amazingphoebe%' LIMIT 10\")\n",
    "temp_df.show()"
   ]
  },
  {
   "attachments": {},
   "cell_type": "markdown",
   "id": "dba88217",
   "metadata": {},
   "source": [
    "# Part 5: Hashtag Statistics"
   ]
  },
  {
   "cell_type": "code",
   "execution_count": 15,
   "id": "086ced25",
   "metadata": {},
   "outputs": [
    {
     "name": "stderr",
     "output_type": "stream",
     "text": [
      "[Stage 29:>                                                         (0 + 2) / 2]\r"
     ]
    },
    {
     "name": "stdout",
     "output_type": "stream",
     "text": [
      "10551\n"
     ]
    },
    {
     "name": "stderr",
     "output_type": "stream",
     "text": [
      "                                                                                \r"
     ]
    }
   ],
   "source": [
    "hashTags = sc.flatMap(lambda xs: [x.split(' ') for x in xs]).flatMap(lambda x: x).filter(lambda w: w.startswith(\"#\"))\n",
    "\n",
    "# Print the total number of hashtags found in the dataset\n",
    "hashTags.count()\n",
    "print(hashTags.count())"
   ]
  },
  {
   "cell_type": "code",
   "execution_count": 16,
   "id": "3efaff97",
   "metadata": {
    "scrolled": true
   },
   "outputs": [
    {
     "name": "stderr",
     "output_type": "stream",
     "text": [
      "                                                                                \r"
     ]
    },
    {
     "data": {
      "text/plain": [
       "[('#fb', 586),\n",
       " ('#fail', 168),\n",
       " ('#', 132),\n",
       " ('#asot400', 111),\n",
       " ('#squarespace', 102),\n",
       " ('#iremember', 88),\n",
       " ('#1', 85),\n",
       " ('#e3', 76),\n",
       " ('#2', 75),\n",
       " ('#bgt', 71)]"
      ]
     },
     "execution_count": 16,
     "metadata": {},
     "output_type": "execute_result"
    }
   ],
   "source": [
    "# TODO: Count unique hashtags and sort them in descending order of count\n",
    "#changing each hastag with a tuple, reducing everything and addding the count, then sorting\n",
    "countedHashTags = hashTags.map(lambda w: (w, 1)).reduceByKey(lambda a, b: a + b).sortBy(lambda tup: tup[1], ascending = False)\n",
    "\n",
    "# Print the top 10 hashtags\n",
    "countedHashTags.take(10)"
   ]
  },
  {
   "attachments": {},
   "cell_type": "markdown",
   "id": "2d7ab15b",
   "metadata": {},
   "source": [
    "# Part 6: Create A Mentions Column\n",
    "In this section you will parse the tweet text for mentions (e.g. @tweetpet) and place them in a separate data column"
   ]
  },
  {
   "attachments": {},
   "cell_type": "markdown",
   "id": "e55ee6b2",
   "metadata": {},
   "source": [
    "## Part 6.1: Create a Pandas DataFrame and add Mentions Column"
   ]
  },
  {
   "cell_type": "code",
   "execution_count": 17,
   "id": "f1220af7",
   "metadata": {},
   "outputs": [
    {
     "name": "stderr",
     "output_type": "stream",
     "text": [
      "                                                                                \r"
     ]
    },
    {
     "data": {
      "text/html": [
       "<div>\n",
       "<style scoped>\n",
       "    .dataframe tbody tr th:only-of-type {\n",
       "        vertical-align: middle;\n",
       "    }\n",
       "\n",
       "    .dataframe tbody tr th {\n",
       "        vertical-align: top;\n",
       "    }\n",
       "\n",
       "    .dataframe thead th {\n",
       "        text-align: right;\n",
       "    }\n",
       "</style>\n",
       "<table border=\"1\" class=\"dataframe\">\n",
       "  <thead>\n",
       "    <tr style=\"text-align: right;\">\n",
       "      <th></th>\n",
       "      <th>target</th>\n",
       "      <th>ids</th>\n",
       "      <th>date</th>\n",
       "      <th>flag</th>\n",
       "      <th>user</th>\n",
       "      <th>text</th>\n",
       "    </tr>\n",
       "  </thead>\n",
       "  <tbody>\n",
       "    <tr>\n",
       "      <th>0</th>\n",
       "      <td>0</td>\n",
       "      <td>1467810369</td>\n",
       "      <td>Mon Apr 06 22:19:45 PDT 2009</td>\n",
       "      <td>NO_QUERY</td>\n",
       "      <td>_TheSpecialOne_</td>\n",
       "      <td>@switchfoot http://twitpic.com/2y1zl - Awww th...</td>\n",
       "    </tr>\n",
       "    <tr>\n",
       "      <th>1</th>\n",
       "      <td>0</td>\n",
       "      <td>1467810672</td>\n",
       "      <td>Mon Apr 06 22:19:49 PDT 2009</td>\n",
       "      <td>NO_QUERY</td>\n",
       "      <td>scotthamilton</td>\n",
       "      <td>is upset that he can't update his Facebook by ...</td>\n",
       "    </tr>\n",
       "    <tr>\n",
       "      <th>2</th>\n",
       "      <td>0</td>\n",
       "      <td>1467810917</td>\n",
       "      <td>Mon Apr 06 22:19:53 PDT 2009</td>\n",
       "      <td>NO_QUERY</td>\n",
       "      <td>mattycus</td>\n",
       "      <td>@Kenichan I dived many times for the ball. Man...</td>\n",
       "    </tr>\n",
       "    <tr>\n",
       "      <th>3</th>\n",
       "      <td>0</td>\n",
       "      <td>1467811184</td>\n",
       "      <td>Mon Apr 06 22:19:57 PDT 2009</td>\n",
       "      <td>NO_QUERY</td>\n",
       "      <td>ElleCTF</td>\n",
       "      <td>my whole body feels itchy and like its on fire</td>\n",
       "    </tr>\n",
       "    <tr>\n",
       "      <th>4</th>\n",
       "      <td>0</td>\n",
       "      <td>1467811193</td>\n",
       "      <td>Mon Apr 06 22:19:57 PDT 2009</td>\n",
       "      <td>NO_QUERY</td>\n",
       "      <td>Karoli</td>\n",
       "      <td>@nationwideclass no it's not behaving at all. ...</td>\n",
       "    </tr>\n",
       "  </tbody>\n",
       "</table>\n",
       "</div>"
      ],
      "text/plain": [
       "  target         ids                          date      flag             user  \\\n",
       "0      0  1467810369  Mon Apr 06 22:19:45 PDT 2009  NO_QUERY  _TheSpecialOne_   \n",
       "1      0  1467810672  Mon Apr 06 22:19:49 PDT 2009  NO_QUERY    scotthamilton   \n",
       "2      0  1467810917  Mon Apr 06 22:19:53 PDT 2009  NO_QUERY         mattycus   \n",
       "3      0  1467811184  Mon Apr 06 22:19:57 PDT 2009  NO_QUERY          ElleCTF   \n",
       "4      0  1467811193  Mon Apr 06 22:19:57 PDT 2009  NO_QUERY           Karoli   \n",
       "\n",
       "                                                text  \n",
       "0  @switchfoot http://twitpic.com/2y1zl - Awww th...  \n",
       "1  is upset that he can't update his Facebook by ...  \n",
       "2  @Kenichan I dived many times for the ball. Man...  \n",
       "3    my whole body feels itchy and like its on fire   \n",
       "4  @nationwideclass no it's not behaving at all. ...  "
      ]
     },
     "execution_count": 17,
     "metadata": {},
     "output_type": "execute_result"
    }
   ],
   "source": [
    "# TODO: Convert to a pandas dataframe `toPandas()`\n",
    "tweets_PDF = tweetsDF.toPandas()\n",
    "\n",
    "# Visualize first 5 rows\n",
    "tweets_PDF.head(5)"
   ]
  },
  {
   "cell_type": "code",
   "execution_count": 18,
   "id": "12b8e8bd",
   "metadata": {
    "scrolled": true
   },
   "outputs": [
    {
     "data": {
      "text/html": [
       "<div>\n",
       "<style scoped>\n",
       "    .dataframe tbody tr th:only-of-type {\n",
       "        vertical-align: middle;\n",
       "    }\n",
       "\n",
       "    .dataframe tbody tr th {\n",
       "        vertical-align: top;\n",
       "    }\n",
       "\n",
       "    .dataframe thead th {\n",
       "        text-align: right;\n",
       "    }\n",
       "</style>\n",
       "<table border=\"1\" class=\"dataframe\">\n",
       "  <thead>\n",
       "    <tr style=\"text-align: right;\">\n",
       "      <th></th>\n",
       "      <th>target</th>\n",
       "      <th>ids</th>\n",
       "      <th>date</th>\n",
       "      <th>flag</th>\n",
       "      <th>user</th>\n",
       "      <th>text</th>\n",
       "      <th>mentioned</th>\n",
       "    </tr>\n",
       "  </thead>\n",
       "  <tbody>\n",
       "    <tr>\n",
       "      <th>0</th>\n",
       "      <td>0</td>\n",
       "      <td>1467810369</td>\n",
       "      <td>Mon Apr 06 22:19:45 PDT 2009</td>\n",
       "      <td>NO_QUERY</td>\n",
       "      <td>_TheSpecialOne_</td>\n",
       "      <td>@switchfoot http://twitpic.com/2y1zl - Awww th...</td>\n",
       "      <td>[switchfoot]</td>\n",
       "    </tr>\n",
       "    <tr>\n",
       "      <th>1</th>\n",
       "      <td>0</td>\n",
       "      <td>1467810672</td>\n",
       "      <td>Mon Apr 06 22:19:49 PDT 2009</td>\n",
       "      <td>NO_QUERY</td>\n",
       "      <td>scotthamilton</td>\n",
       "      <td>is upset that he can't update his Facebook by ...</td>\n",
       "      <td>[]</td>\n",
       "    </tr>\n",
       "    <tr>\n",
       "      <th>2</th>\n",
       "      <td>0</td>\n",
       "      <td>1467810917</td>\n",
       "      <td>Mon Apr 06 22:19:53 PDT 2009</td>\n",
       "      <td>NO_QUERY</td>\n",
       "      <td>mattycus</td>\n",
       "      <td>@Kenichan I dived many times for the ball. Man...</td>\n",
       "      <td>[kenichan]</td>\n",
       "    </tr>\n",
       "    <tr>\n",
       "      <th>3</th>\n",
       "      <td>0</td>\n",
       "      <td>1467811184</td>\n",
       "      <td>Mon Apr 06 22:19:57 PDT 2009</td>\n",
       "      <td>NO_QUERY</td>\n",
       "      <td>ElleCTF</td>\n",
       "      <td>my whole body feels itchy and like its on fire</td>\n",
       "      <td>[]</td>\n",
       "    </tr>\n",
       "    <tr>\n",
       "      <th>4</th>\n",
       "      <td>0</td>\n",
       "      <td>1467811193</td>\n",
       "      <td>Mon Apr 06 22:19:57 PDT 2009</td>\n",
       "      <td>NO_QUERY</td>\n",
       "      <td>Karoli</td>\n",
       "      <td>@nationwideclass no it's not behaving at all. ...</td>\n",
       "      <td>[nationwideclass]</td>\n",
       "    </tr>\n",
       "  </tbody>\n",
       "</table>\n",
       "</div>"
      ],
      "text/plain": [
       "  target         ids                          date      flag             user  \\\n",
       "0      0  1467810369  Mon Apr 06 22:19:45 PDT 2009  NO_QUERY  _TheSpecialOne_   \n",
       "1      0  1467810672  Mon Apr 06 22:19:49 PDT 2009  NO_QUERY    scotthamilton   \n",
       "2      0  1467810917  Mon Apr 06 22:19:53 PDT 2009  NO_QUERY         mattycus   \n",
       "3      0  1467811184  Mon Apr 06 22:19:57 PDT 2009  NO_QUERY          ElleCTF   \n",
       "4      0  1467811193  Mon Apr 06 22:19:57 PDT 2009  NO_QUERY           Karoli   \n",
       "\n",
       "                                                text          mentioned  \n",
       "0  @switchfoot http://twitpic.com/2y1zl - Awww th...       [switchfoot]  \n",
       "1  is upset that he can't update his Facebook by ...                 []  \n",
       "2  @Kenichan I dived many times for the ball. Man...         [kenichan]  \n",
       "3    my whole body feels itchy and like its on fire                  []  \n",
       "4  @nationwideclass no it's not behaving at all. ...  [nationwideclass]  "
      ]
     },
     "execution_count": 18,
     "metadata": {},
     "output_type": "execute_result"
    }
   ],
   "source": [
    "# TODO: Create a column which lists the mentions present for each tweet \n",
    "# Tutorial code\n",
    "\n",
    "def addMentionedColumn(df):\n",
    "    def mentionsList(txt):\n",
    "        allWords = [word.strip(\"\"\" ,.:'\\\";\"\"\").lower() for word in txt.split()]\n",
    "        allNames = [word.strip(\"@\") for word in allWords if word.startswith(\"@\")]\n",
    "        uniqueNames = list(set(allNames))\n",
    "        return uniqueNames\n",
    "    \n",
    "    df[\"mentioned\"] = df[\"text\"].apply(mentionsList)\n",
    "\n",
    "addMentionedColumn(tweets_PDF)\n",
    "# Visualize the first 5 rows of this new dataset (should include 'mentioned' column)\n",
    "tweets_PDF.head(5)"
   ]
  },
  {
   "attachments": {},
   "cell_type": "markdown",
   "id": "37701e51",
   "metadata": {},
   "source": [
    "## Part 6.2: Filter out tweets that don't include `HASHTAGS`\n",
    "Use [pandas.DataFrame.loc](https://pandas.pydata.org/docs/reference/api/pandas.DataFrame.loc.html) method to filter pandas dataframe (e.g.,`new_pdf = old_pdf.loc[(old_pdf['user']==\"Karol\")]`)\n",
    "\n",
    "Note that you will need to find out how to search if a column (e.g., tweets_PDF['text']) contains a `HASHTAG`. Refer to [this](https://stackoverflow.com/questions/11350770/filter-pandas-dataframe-by-substring-criteria) stack overflow link\n",
    "\n",
    "** Search for `HASHTAG + \" \"` adding trailing space to only search for whole words"
   ]
  },
  {
   "cell_type": "code",
   "execution_count": 19,
   "id": "b9439b1e",
   "metadata": {},
   "outputs": [
    {
     "name": "stdout",
     "output_type": "stream",
     "text": [
      "target       87\n",
      "ids          87\n",
      "date         87\n",
      "flag         87\n",
      "user         87\n",
      "text         87\n",
      "mentioned    87\n",
      "dtype: int64\n"
     ]
    },
    {
     "data": {
      "text/html": [
       "<div>\n",
       "<style scoped>\n",
       "    .dataframe tbody tr th:only-of-type {\n",
       "        vertical-align: middle;\n",
       "    }\n",
       "\n",
       "    .dataframe tbody tr th {\n",
       "        vertical-align: top;\n",
       "    }\n",
       "\n",
       "    .dataframe thead th {\n",
       "        text-align: right;\n",
       "    }\n",
       "</style>\n",
       "<table border=\"1\" class=\"dataframe\">\n",
       "  <thead>\n",
       "    <tr style=\"text-align: right;\">\n",
       "      <th></th>\n",
       "      <th>target</th>\n",
       "      <th>ids</th>\n",
       "      <th>date</th>\n",
       "      <th>flag</th>\n",
       "      <th>user</th>\n",
       "      <th>text</th>\n",
       "      <th>mentioned</th>\n",
       "    </tr>\n",
       "  </thead>\n",
       "  <tbody>\n",
       "    <tr>\n",
       "      <th>22263</th>\n",
       "      <td>0</td>\n",
       "      <td>1557450651</td>\n",
       "      <td>Sun Apr 19 04:11:26 PDT 2009</td>\n",
       "      <td>NO_QUERY</td>\n",
       "      <td>daepunt</td>\n",
       "      <td>Loading his #iLiad by wire  How can it #fail to connect to #WEP128???</td>\n",
       "      <td>[]</td>\n",
       "    </tr>\n",
       "    <tr>\n",
       "      <th>23842</th>\n",
       "      <td>0</td>\n",
       "      <td>1557822502</td>\n",
       "      <td>Sun Apr 19 06:09:34 PDT 2009</td>\n",
       "      <td>NO_QUERY</td>\n",
       "      <td>pallavt</td>\n",
       "      <td>Whole city in darkness! Looks like a power plant #fail</td>\n",
       "      <td>[]</td>\n",
       "    </tr>\n",
       "    <tr>\n",
       "      <th>31085</th>\n",
       "      <td>0</td>\n",
       "      <td>1563934664</td>\n",
       "      <td>Mon Apr 20 00:56:58 PDT 2009</td>\n",
       "      <td>NO_QUERY</td>\n",
       "      <td>mworks</td>\n",
       "      <td>ns.nl + ideal + safari == #fail</td>\n",
       "      <td>[]</td>\n",
       "    </tr>\n",
       "    <tr>\n",
       "      <th>39686</th>\n",
       "      <td>0</td>\n",
       "      <td>1573593268</td>\n",
       "      <td>Tue Apr 21 01:54:50 PDT 2009</td>\n",
       "      <td>NO_QUERY</td>\n",
       "      <td>garymeyerza</td>\n",
       "      <td>Neotel seem to be having a #fail day...</td>\n",
       "      <td>[]</td>\n",
       "    </tr>\n",
       "    <tr>\n",
       "      <th>40283</th>\n",
       "      <td>0</td>\n",
       "      <td>1573747027</td>\n",
       "      <td>Tue Apr 21 02:39:58 PDT 2009</td>\n",
       "      <td>NO_QUERY</td>\n",
       "      <td>juergenfenn</td>\n",
       "      <td>!Identica currently has rather severe problems concerning performance availability and its gateway to Twitter.  #fail !laconica</td>\n",
       "      <td>[]</td>\n",
       "    </tr>\n",
       "  </tbody>\n",
       "</table>\n",
       "</div>"
      ],
      "text/plain": [
       "      target         ids                          date      flag         user  \\\n",
       "22263      0  1557450651  Sun Apr 19 04:11:26 PDT 2009  NO_QUERY      daepunt   \n",
       "23842      0  1557822502  Sun Apr 19 06:09:34 PDT 2009  NO_QUERY      pallavt   \n",
       "31085      0  1563934664  Mon Apr 20 00:56:58 PDT 2009  NO_QUERY       mworks   \n",
       "39686      0  1573593268  Tue Apr 21 01:54:50 PDT 2009  NO_QUERY  garymeyerza   \n",
       "40283      0  1573747027  Tue Apr 21 02:39:58 PDT 2009  NO_QUERY  juergenfenn   \n",
       "\n",
       "                                                                                                                                  text  \\\n",
       "22263                                                            Loading his #iLiad by wire  How can it #fail to connect to #WEP128???   \n",
       "23842                                                                          Whole city in darkness! Looks like a power plant #fail    \n",
       "31085                                                                                                 ns.nl + ideal + safari == #fail    \n",
       "39686                                                                                         Neotel seem to be having a #fail day...    \n",
       "40283  !Identica currently has rather severe problems concerning performance availability and its gateway to Twitter.  #fail !laconica   \n",
       "\n",
       "      mentioned  \n",
       "22263        []  \n",
       "23842        []  \n",
       "31085        []  \n",
       "39686        []  \n",
       "40283        []  "
      ]
     },
     "execution_count": 19,
     "metadata": {},
     "output_type": "execute_result"
    }
   ],
   "source": [
    "# TODO: Only store tweets with HASHTAG\n",
    "tweets_PDF_filtered = tweets_PDF.loc[tweets_PDF['text'].str.contains(HASHTAG + \" \")]\n",
    "\n",
    "# Print the number of tweets containting the hashtag\n",
    "print(tweets_PDF_filtered.count())\n",
    "\n",
    "# Print the first couple tweets\n",
    "import pandas as pd\n",
    "pd.set_option('display.max_colwidth', None)\n",
    "tweets_PDF_filtered.head(5)"
   ]
  },
  {
   "attachments": {},
   "cell_type": "markdown",
   "id": "575d0fb6",
   "metadata": {},
   "source": [
    "# Part 7: Graph Nodes\n",
    "## Part 7.1: Create graph of mentions"
   ]
  },
  {
   "cell_type": "code",
   "execution_count": 20,
   "id": "22b7afd8",
   "metadata": {},
   "outputs": [],
   "source": [
    "import networkx as nx\n",
    "# TODO: Create a graph of user nodes linked by mentions (Tutorial code)\n",
    "\n",
    "def mentionGraph(df):\n",
    "    g = nx.Graph()\n",
    "    \n",
    "    for  (index, target, ids, date, flag, user, text, mentionedUsers) in df.itertuples():\n",
    "        for mentionedUser in mentionedUsers: \n",
    "            if (user in g) and (mentionedUser in g[user]): #only looking at user and mentioned user\n",
    "                g[user][mentionedUser][\"numberMentions\"] += 1\n",
    "            else:\n",
    "                g.add_edge(user, mentionedUser, numberMentions=1)\n",
    "    \n",
    "    return g\n",
    "\n",
    "hashtagGraph = mentionGraph(tweets_PDF_filtered)"
   ]
  },
  {
   "cell_type": "code",
   "execution_count": 21,
   "id": "6b9ed3a5",
   "metadata": {},
   "outputs": [
    {
     "data": {
      "text/plain": [
       "10"
      ]
     },
     "execution_count": 21,
     "metadata": {},
     "output_type": "execute_result"
    }
   ],
   "source": [
    "# Print the number of nodes attached to your username (Tutorial code)\n",
    "nx.degree(hashtagGraph,'nnonta')"
   ]
  },
  {
   "attachments": {},
   "cell_type": "markdown",
   "id": "a79be7ac",
   "metadata": {},
   "source": [
    "## Part 7.1: Visualize graph of mentions"
   ]
  },
  {
   "cell_type": "code",
   "execution_count": 22,
   "id": "272e2b41",
   "metadata": {},
   "outputs": [
    {
     "data": {
      "text/html": [
       "        <script type=\"text/javascript\">\n",
       "        window.PlotlyConfig = {MathJaxConfig: 'local'};\n",
       "        if (window.MathJax && window.MathJax.Hub && window.MathJax.Hub.Config) {window.MathJax.Hub.Config({SVG: {font: \"STIX-Web\"}});}\n",
       "        if (typeof require !== 'undefined') {\n",
       "        require.undef(\"plotly\");\n",
       "        requirejs.config({\n",
       "            paths: {\n",
       "                'plotly': ['https://cdn.plot.ly/plotly-2.24.1.min']\n",
       "            }\n",
       "        });\n",
       "        require(['plotly'], function(Plotly) {\n",
       "            window._Plotly = Plotly;\n",
       "        });\n",
       "        }\n",
       "        </script>\n",
       "        "
      ]
     },
     "metadata": {},
     "output_type": "display_data"
    },
    {
     "data": {
      "text/plain": [
       "(12.51599654525502, -4.08714616179274)"
      ]
     },
     "execution_count": 22,
     "metadata": {},
     "output_type": "execute_result"
    }
   ],
   "source": [
    "from plotly.offline import download_plotlyjs, init_notebook_mode, plot, iplot\n",
    "from plotly.graph_objs import Scatter, Layout, Figure, Line\n",
    "\n",
    "init_notebook_mode(connected=True)\n",
    "\n",
    "import random\n",
    "random.seed(0) # deterministic\n",
    "def addRandomPositions(graph):\n",
    "    posDict = dict((node,(random.gauss(0,10),random.gauss(0,10))) for node in graph.nodes())\n",
    "    nx.set_node_attributes(graph, posDict, \"pos\")\n",
    "    \n",
    "addRandomPositions(hashtagGraph)\n",
    "\n",
    "# TODO: Print your node's position using the 'pos' attributed added to the graph (Tutorial code)\n",
    "nx.get_node_attributes(hashtagGraph, 'pos')['nnonta']"
   ]
  },
  {
   "cell_type": "code",
   "execution_count": 24,
   "id": "272b0f24",
   "metadata": {},
   "outputs": [
    {
     "data": {
      "application/vnd.plotly.v1+json": {
       "config": {
        "linkText": "Export to plot.ly",
        "plotlyServerURL": "https://plot.ly",
        "showLink": false
       },
       "data": [
        {
         "hoverinfo": "none",
         "line": {
          "color": "red",
          "width": 1
         },
         "mode": "lines",
         "type": "scatter",
         "x": [
          9.417154046806644,
          -6.797144480784211
         ],
         "y": [
          -13.9657810470115,
          3.705035674606598
         ]
        },
        {
         "hoverinfo": "none",
         "line": {
          "color": "red",
          "width": 1
         },
         "mode": "lines",
         "type": "scatter",
         "x": [
          -10.16348894188071,
          1.7919648727485686
         ],
         "y": [
          -0.7212002278507135,
          -8.310992152709883
         ]
        },
        {
         "hoverinfo": "none",
         "line": {
          "color": "red",
          "width": 1
         },
         "mode": "lines",
         "type": "scatter",
         "x": [
          1.7919648727485686,
          -13.090373644593587
         ],
         "y": [
          -8.310992152709883,
          1.938877412491041
         ]
        },
        {
         "hoverinfo": "none",
         "line": {
          "color": "red",
          "width": 1
         },
         "mode": "lines",
         "type": "scatter",
         "x": [
          9.932497035351972,
          -3.3366798379566953
         ],
         "y": [
          -6.469816305475048,
          16.456717605826775
         ]
        },
        {
         "hoverinfo": "none",
         "line": {
          "color": "red",
          "width": 1
         },
         "mode": "lines",
         "type": "scatter",
         "x": [
          -5.588897658482706,
          24.0411933229857
         ],
         "y": [
          -5.1415666305272705,
          -15.3108259287363
         ]
        },
        {
         "hoverinfo": "none",
         "line": {
          "color": "red",
          "width": 1
         },
         "mode": "lines",
         "type": "scatter",
         "x": [
          7.964658402935511,
          -5.969627480857021
         ],
         "y": [
          -20.036485171514045,
          15.03680882481937
         ]
        },
        {
         "hoverinfo": "none",
         "line": {
          "color": "red",
          "width": 1
         },
         "mode": "lines",
         "type": "scatter",
         "x": [
          -5.969627480857021,
          -19.81533079553284
         ],
         "y": [
          15.03680882481937,
          2.8824374558107566
         ]
        },
        {
         "hoverinfo": "none",
         "line": {
          "color": "red",
          "width": 1
         },
         "mode": "lines",
         "type": "scatter",
         "x": [
          12.21436413076672,
          -4.536987301246161
         ],
         "y": [
          -9.011201503953835,
          0.8023304241061141
         ]
        },
        {
         "hoverinfo": "none",
         "line": {
          "color": "red",
          "width": 1
         },
         "mode": "lines",
         "type": "scatter",
         "x": [
          -12.581032977244673,
          22.27577292070218
         ],
         "y": [
          5.522200050609998,
          -13.552414935512669
         ]
        },
        {
         "hoverinfo": "none",
         "line": {
          "color": "red",
          "width": 1
         },
         "mode": "lines",
         "type": "scatter",
         "x": [
          -1.1912331108457304,
          -1.6036217905701025
         ],
         "y": [
          18.043299319195405,
          -0.50659713648723
         ]
        },
        {
         "hoverinfo": "none",
         "line": {
          "color": "red",
          "width": 1
         },
         "mode": "lines",
         "type": "scatter",
         "x": [
          -1.9087388960126037,
          6.730299840253856
         ],
         "y": [
          -9.90606238348301,
          -13.24082464472022
         ]
        },
        {
         "hoverinfo": "none",
         "line": {
          "color": "red",
          "width": 1
         },
         "mode": "lines",
         "type": "scatter",
         "x": [
          11.66490138238534,
          5.036300563785048
         ],
         "y": [
          0.08376179502044914,
          -5.527646971207059
         ]
        },
        {
         "hoverinfo": "none",
         "line": {
          "color": "red",
          "width": 1
         },
         "mode": "lines",
         "type": "scatter",
         "x": [
          -9.201936678335406,
          4.6854978225277915
         ],
         "y": [
          18.002633604412996,
          12.070031793653449
         ]
        },
        {
         "hoverinfo": "none",
         "line": {
          "color": "red",
          "width": 1
         },
         "mode": "lines",
         "type": "scatter",
         "x": [
          1.8712289779980942,
          3.5750004836441205
         ],
         "y": [
          26.116075272560476,
          -10.29804804536397
         ]
        },
        {
         "hoverinfo": "none",
         "line": {
          "color": "red",
          "width": 1
         },
         "mode": "lines",
         "type": "scatter",
         "x": [
          7.685090969541893,
          -23.211499734925592
         ],
         "y": [
          4.252991158576464,
          -1.1590422906128792
         ]
        },
        {
         "hoverinfo": "none",
         "line": {
          "color": "red",
          "width": 1
         },
         "mode": "lines",
         "type": "scatter",
         "x": [
          9.801990211840204,
          -3.3943540831298873
         ],
         "y": [
          8.011650401167723,
          -12.126242150471978
         ]
        },
        {
         "hoverinfo": "none",
         "line": {
          "color": "red",
          "width": 1
         },
         "mode": "lines",
         "type": "scatter",
         "x": [
          4.912935493074279,
          13.246786624104562
         ],
         "y": [
          -11.458279458387148,
          -3.062675465966934
         ]
        },
        {
         "hoverinfo": "none",
         "line": {
          "color": "red",
          "width": 1
         },
         "mode": "lines",
         "type": "scatter",
         "x": [
          -9.248190034741935,
          -8.108888130650163
         ],
         "y": [
          -5.6766591999366645,
          -5.607173124842789
         ]
        },
        {
         "hoverinfo": "none",
         "line": {
          "color": "red",
          "width": 1
         },
         "mode": "lines",
         "type": "scatter",
         "x": [
          -7.363841038040713,
          2.389696992365105
         ],
         "y": [
          -3.790085233670528,
          5.968890727968448
         ]
        },
        {
         "hoverinfo": "none",
         "line": {
          "color": "red",
          "width": 1
         },
         "mode": "lines",
         "type": "scatter",
         "x": [
          -11.102432745276205,
          -4.291525093014532
         ],
         "y": [
          -9.515379395659727,
          0.6374559279155836
         ]
        },
        {
         "hoverinfo": "none",
         "line": {
          "color": "red",
          "width": 1
         },
         "mode": "lines",
         "type": "scatter",
         "x": [
          0.977293717290007,
          0.977293717290007
         ],
         "y": [
          -20.439815288694376,
          -20.439815288694376
         ]
        },
        {
         "hoverinfo": "none",
         "line": {
          "color": "red",
          "width": 1
         },
         "mode": "lines",
         "type": "scatter",
         "x": [
          17.040273506937485,
          18.169888616305943
         ],
         "y": [
          -8.901940183523209,
          -13.522550174067378
         ]
        },
        {
         "hoverinfo": "none",
         "line": {
          "color": "red",
          "width": 1
         },
         "mode": "lines",
         "type": "scatter",
         "x": [
          -9.64171651113576,
          -2.2267511330489107
         ],
         "y": [
          -2.5143495478497417,
          -7.715783225312308
         ]
        },
        {
         "hoverinfo": "none",
         "line": {
          "color": "red",
          "width": 1
         },
         "mode": "lines",
         "type": "scatter",
         "x": [
          7.348951912399041,
          10.550577298050253
         ],
         "y": [
          -18.02034113723568,
          -8.179729970986532
         ]
        },
        {
         "hoverinfo": "none",
         "line": {
          "color": "blue",
          "width": 1
         },
         "mode": "lines",
         "type": "scatter",
         "x": [
          12.51599654525502,
          -13.990565518227992
         ],
         "y": [
          -4.08714616179274,
          4.49114698391111
         ]
        },
        {
         "hoverinfo": "none",
         "line": {
          "color": "blue",
          "width": 1
         },
         "mode": "lines",
         "type": "scatter",
         "x": [
          12.51599654525502,
          22.30171007514493
         ],
         "y": [
          -4.08714616179274,
          -0.524469822501738
         ]
        },
        {
         "hoverinfo": "none",
         "line": {
          "color": "blue",
          "width": 1
         },
         "mode": "lines",
         "type": "scatter",
         "x": [
          12.51599654525502,
          1.1148493528077184
         ],
         "y": [
          -4.08714616179274,
          -3.9937408717593756
         ]
        },
        {
         "hoverinfo": "none",
         "line": {
          "color": "blue",
          "width": 1
         },
         "mode": "lines",
         "type": "scatter",
         "x": [
          12.51599654525502,
          -8.765282350783203
         ],
         "y": [
          -4.08714616179274,
          -7.513264535331379
         ]
        },
        {
         "hoverinfo": "none",
         "line": {
          "color": "blue",
          "width": 1
         },
         "mode": "lines",
         "type": "scatter",
         "x": [
          12.51599654525502,
          -13.20716207334935
         ],
         "y": [
          -4.08714616179274,
          -14.090316713215872
         ]
        },
        {
         "hoverinfo": "none",
         "line": {
          "color": "blue",
          "width": 1
         },
         "mode": "lines",
         "type": "scatter",
         "x": [
          12.51599654525502,
          0.7093801699363188
         ],
         "y": [
          -4.08714616179274,
          16.200914287046835
         ]
        },
        {
         "hoverinfo": "none",
         "line": {
          "color": "blue",
          "width": 1
         },
         "mode": "lines",
         "type": "scatter",
         "x": [
          12.51599654525502,
          5.230956316925225
         ],
         "y": [
          -4.08714616179274,
          4.737878124350087
         ]
        },
        {
         "hoverinfo": "none",
         "line": {
          "color": "blue",
          "width": 1
         },
         "mode": "lines",
         "type": "scatter",
         "x": [
          12.51599654525502,
          2.486021956535268
         ],
         "y": [
          -4.08714616179274,
          -8.64139480022371
         ]
        },
        {
         "hoverinfo": "none",
         "line": {
          "color": "blue",
          "width": 1
         },
         "mode": "lines",
         "type": "scatter",
         "x": [
          12.51599654525502,
          1.8531318062544133
         ],
         "y": [
          -4.08714616179274,
          -4.215810209049663
         ]
        },
        {
         "hoverinfo": "none",
         "line": {
          "color": "blue",
          "width": 1
         },
         "mode": "lines",
         "type": "scatter",
         "x": [
          12.51599654525502,
          9.375555831982872
         ],
         "y": [
          -4.08714616179274,
          12.30230079853361
         ]
        },
        {
         "hoverinfo": "name",
         "marker": {
          "color": "pink",
          "line": {
           "width": 2
          },
          "size": 10
         },
         "mode": "markers",
         "name": "scum",
         "type": "scatter",
         "x": [
          9.417154046806644
         ],
         "y": [
          -13.9657810470115
         ]
        },
        {
         "hoverinfo": "name",
         "marker": {
          "color": "pink",
          "line": {
           "width": 2
          },
          "size": 10
         },
         "mode": "markers",
         "name": "bourgtai",
         "type": "scatter",
         "x": [
          -6.797144480784211
         ],
         "y": [
          3.705035674606598
         ]
        },
        {
         "hoverinfo": "name",
         "marker": {
          "color": "pink",
          "line": {
           "width": 2
          },
          "size": 10
         },
         "mode": "markers",
         "name": "MobileNatives",
         "type": "scatter",
         "x": [
          -10.16348894188071
         ],
         "y": [
          -0.7212002278507135
         ]
        },
        {
         "hoverinfo": "name",
         "marker": {
          "color": "pink",
          "line": {
           "width": 2
          },
          "size": 10
         },
         "mode": "markers",
         "name": "elmina",
         "type": "scatter",
         "x": [
          1.7919648727485686
         ],
         "y": [
          -8.310992152709883
         ]
        },
        {
         "hoverinfo": "name",
         "marker": {
          "color": "pink",
          "line": {
           "width": 2
          },
          "size": 10
         },
         "mode": "markers",
         "name": "twtrfail",
         "type": "scatter",
         "x": [
          -13.090373644593587
         ],
         "y": [
          1.938877412491041
         ]
        },
        {
         "hoverinfo": "name",
         "marker": {
          "color": "pink",
          "line": {
           "width": 2
          },
          "size": 10
         },
         "mode": "markers",
         "name": "djweso",
         "type": "scatter",
         "x": [
          9.932497035351972
         ],
         "y": [
          -6.469816305475048
         ]
        },
        {
         "hoverinfo": "name",
         "marker": {
          "color": "pink",
          "line": {
           "width": 2
          },
          "size": 10
         },
         "mode": "markers",
         "name": "g33kgurrl",
         "type": "scatter",
         "x": [
          -3.3366798379566953
         ],
         "y": [
          16.456717605826775
         ]
        },
        {
         "hoverinfo": "name",
         "marker": {
          "color": "pink",
          "line": {
           "width": 2
          },
          "size": 10
         },
         "mode": "markers",
         "name": "theSuda",
         "type": "scatter",
         "x": [
          -5.588897658482706
         ],
         "y": [
          -5.1415666305272705
         ]
        },
        {
         "hoverinfo": "name",
         "marker": {
          "color": "pink",
          "line": {
           "width": 2
          },
          "size": 10
         },
         "mode": "markers",
         "name": "purplebeats",
         "type": "scatter",
         "x": [
          24.0411933229857
         ],
         "y": [
          -15.3108259287363
         ]
        },
        {
         "hoverinfo": "name",
         "marker": {
          "color": "pink",
          "line": {
           "width": 2
          },
          "size": 10
         },
         "mode": "markers",
         "name": "ctham",
         "type": "scatter",
         "x": [
          7.964658402935511
         ],
         "y": [
          -20.036485171514045
         ]
        },
        {
         "hoverinfo": "name",
         "marker": {
          "color": "pink",
          "line": {
           "width": 2
          },
          "size": 10
         },
         "mode": "markers",
         "name": "wolfgang_",
         "type": "scatter",
         "x": [
          -5.969627480857021
         ],
         "y": [
          15.03680882481937
         ]
        },
        {
         "hoverinfo": "name",
         "marker": {
          "color": "pink",
          "line": {
           "width": 2
          },
          "size": 10
         },
         "mode": "markers",
         "name": "okwithmydecay",
         "type": "scatter",
         "x": [
          12.21436413076672
         ],
         "y": [
          -9.011201503953835
         ]
        },
        {
         "hoverinfo": "name",
         "marker": {
          "color": "pink",
          "line": {
           "width": 2
          },
          "size": 10
         },
         "mode": "markers",
         "name": "spotibot",
         "type": "scatter",
         "x": [
          -4.536987301246161
         ],
         "y": [
          0.8023304241061141
         ]
        },
        {
         "hoverinfo": "name",
         "marker": {
          "color": "pink",
          "line": {
           "width": 2
          },
          "size": 10
         },
         "mode": "markers",
         "name": "SkydiveMike",
         "type": "scatter",
         "x": [
          -12.581032977244673
         ],
         "y": [
          5.522200050609998
         ]
        },
        {
         "hoverinfo": "name",
         "marker": {
          "color": "pink",
          "line": {
           "width": 2
          },
          "size": 10
         },
         "mode": "markers",
         "name": "jenxstudios",
         "type": "scatter",
         "x": [
          22.27577292070218
         ],
         "y": [
          -13.552414935512669
         ]
        },
        {
         "hoverinfo": "name",
         "marker": {
          "color": "pink",
          "line": {
           "width": 2
          },
          "size": 10
         },
         "mode": "markers",
         "name": "betshopboy",
         "type": "scatter",
         "x": [
          -19.81533079553284
         ],
         "y": [
          2.8824374558107566
         ]
        },
        {
         "hoverinfo": "name",
         "marker": {
          "color": "pink",
          "line": {
           "width": 2
          },
          "size": 10
         },
         "mode": "markers",
         "name": "Sk4tz",
         "type": "scatter",
         "x": [
          -1.1912331108457304
         ],
         "y": [
          18.043299319195405
         ]
        },
        {
         "hoverinfo": "name",
         "marker": {
          "color": "pink",
          "line": {
           "width": 2
          },
          "size": 10
         },
         "mode": "markers",
         "name": "soehlsch)",
         "type": "scatter",
         "x": [
          -1.6036217905701025
         ],
         "y": [
          -0.50659713648723
         ]
        },
        {
         "hoverinfo": "name",
         "marker": {
          "color": "pink",
          "line": {
           "width": 2
          },
          "size": 10
         },
         "mode": "markers",
         "name": "hideout",
         "type": "scatter",
         "x": [
          -1.9087388960126037
         ],
         "y": [
          -9.90606238348301
         ]
        },
        {
         "hoverinfo": "name",
         "marker": {
          "color": "pink",
          "line": {
           "width": 2
          },
          "size": 10
         },
         "mode": "markers",
         "name": "jmtosses",
         "type": "scatter",
         "x": [
          6.730299840253856
         ],
         "y": [
          -13.24082464472022
         ]
        },
        {
         "hoverinfo": "name",
         "marker": {
          "color": "pink",
          "line": {
           "width": 2
          },
          "size": 10
         },
         "mode": "markers",
         "name": "lauralovesart",
         "type": "scatter",
         "x": [
          11.66490138238534
         ],
         "y": [
          0.08376179502044914
         ]
        },
        {
         "hoverinfo": "name",
         "marker": {
          "color": "pink",
          "line": {
           "width": 2
          },
          "size": 10
         },
         "mode": "markers",
         "name": "kyeung808",
         "type": "scatter",
         "x": [
          5.036300563785048
         ],
         "y": [
          -5.527646971207059
         ]
        },
        {
         "hoverinfo": "name",
         "marker": {
          "color": "pink",
          "line": {
           "width": 2
          },
          "size": 10
         },
         "mode": "markers",
         "name": "christinakb",
         "type": "scatter",
         "x": [
          -9.201936678335406
         ],
         "y": [
          18.002633604412996
         ]
        },
        {
         "hoverinfo": "name",
         "marker": {
          "color": "pink",
          "line": {
           "width": 2
          },
          "size": 10
         },
         "mode": "markers",
         "name": "juella_",
         "type": "scatter",
         "x": [
          4.6854978225277915
         ],
         "y": [
          12.070031793653449
         ]
        },
        {
         "hoverinfo": "name",
         "marker": {
          "color": "pink",
          "line": {
           "width": 2
          },
          "size": 10
         },
         "mode": "markers",
         "name": "lmastromauro",
         "type": "scatter",
         "x": [
          1.8712289779980942
         ],
         "y": [
          26.116075272560476
         ]
        },
        {
         "hoverinfo": "name",
         "marker": {
          "color": "pink",
          "line": {
           "width": 2
          },
          "size": 10
         },
         "mode": "markers",
         "name": "maurahernandez",
         "type": "scatter",
         "x": [
          3.5750004836441205
         ],
         "y": [
          -10.29804804536397
         ]
        },
        {
         "hoverinfo": "name",
         "marker": {
          "color": "pink",
          "line": {
           "width": 2
          },
          "size": 10
         },
         "mode": "markers",
         "name": "hashgame",
         "type": "scatter",
         "x": [
          7.685090969541893
         ],
         "y": [
          4.252991158576464
         ]
        },
        {
         "hoverinfo": "name",
         "marker": {
          "color": "pink",
          "line": {
           "width": 2
          },
          "size": 10
         },
         "mode": "markers",
         "name": "digitaltempest)",
         "type": "scatter",
         "x": [
          -23.211499734925592
         ],
         "y": [
          -1.1590422906128792
         ]
        },
        {
         "hoverinfo": "name",
         "marker": {
          "color": "pink",
          "line": {
           "width": 2
          },
          "size": 10
         },
         "mode": "markers",
         "name": "shntenchi",
         "type": "scatter",
         "x": [
          9.801990211840204
         ],
         "y": [
          8.011650401167723
         ]
        },
        {
         "hoverinfo": "name",
         "marker": {
          "color": "pink",
          "line": {
           "width": 2
          },
          "size": 10
         },
         "mode": "markers",
         "name": "daremoshiranai",
         "type": "scatter",
         "x": [
          -3.3943540831298873
         ],
         "y": [
          -12.126242150471978
         ]
        },
        {
         "hoverinfo": "name",
         "marker": {
          "color": "pink",
          "line": {
           "width": 2
          },
          "size": 10
         },
         "mode": "markers",
         "name": "elpargo",
         "type": "scatter",
         "x": [
          4.912935493074279
         ],
         "y": [
          -11.458279458387148
         ]
        },
        {
         "hoverinfo": "name",
         "marker": {
          "color": "pink",
          "line": {
           "width": 2
          },
          "size": 10
         },
         "mode": "markers",
         "name": "pjenvey",
         "type": "scatter",
         "x": [
          13.246786624104562
         ],
         "y": [
          -3.062675465966934
         ]
        },
        {
         "hoverinfo": "name",
         "marker": {
          "color": "pink",
          "line": {
           "width": 2
          },
          "size": 10
         },
         "mode": "markers",
         "name": "tomatoejane",
         "type": "scatter",
         "x": [
          -9.248190034741935
         ],
         "y": [
          -5.6766591999366645
         ]
        },
        {
         "hoverinfo": "name",
         "marker": {
          "color": "pink",
          "line": {
           "width": 2
          },
          "size": 10
         },
         "mode": "markers",
         "name": "davidsteven",
         "type": "scatter",
         "x": [
          -8.108888130650163
         ],
         "y": [
          -5.607173124842789
         ]
        },
        {
         "hoverinfo": "name",
         "marker": {
          "color": "pink",
          "line": {
           "width": 2
          },
          "size": 10
         },
         "mode": "markers",
         "name": "ntkilpatrick",
         "type": "scatter",
         "x": [
          -7.363841038040713
         ],
         "y": [
          -3.790085233670528
         ]
        },
        {
         "hoverinfo": "name",
         "marker": {
          "color": "pink",
          "line": {
           "width": 2
          },
          "size": 10
         },
         "mode": "markers",
         "name": "skweeker",
         "type": "scatter",
         "x": [
          2.389696992365105
         ],
         "y": [
          5.968890727968448
         ]
        },
        {
         "hoverinfo": "name",
         "marker": {
          "color": "pink",
          "line": {
           "width": 2
          },
          "size": 10
         },
         "mode": "markers",
         "name": "AldrichSilva",
         "type": "scatter",
         "x": [
          -11.102432745276205
         ],
         "y": [
          -9.515379395659727
         ]
        },
        {
         "hoverinfo": "name",
         "marker": {
          "color": "pink",
          "line": {
           "width": 2
          },
          "size": 10
         },
         "mode": "markers",
         "name": "crystalgibson)",
         "type": "scatter",
         "x": [
          -4.291525093014532
         ],
         "y": [
          0.6374559279155836
         ]
        },
        {
         "hoverinfo": "name",
         "marker": {
          "color": "pink",
          "line": {
           "width": 2
          },
          "size": 10
         },
         "mode": "markers",
         "name": "stiplady",
         "type": "scatter",
         "x": [
          0.977293717290007
         ],
         "y": [
          -20.439815288694376
         ]
        },
        {
         "hoverinfo": "name",
         "marker": {
          "color": "pink",
          "line": {
           "width": 2
          },
          "size": 10
         },
         "mode": "markers",
         "name": "fastchicken",
         "type": "scatter",
         "x": [
          17.040273506937485
         ],
         "y": [
          -8.901940183523209
         ]
        },
        {
         "hoverinfo": "name",
         "marker": {
          "color": "pink",
          "line": {
           "width": 2
          },
          "size": 10
         },
         "mode": "markers",
         "name": "kiwibastard",
         "type": "scatter",
         "x": [
          18.169888616305943
         ],
         "y": [
          -13.522550174067378
         ]
        },
        {
         "hoverinfo": "name",
         "marker": {
          "color": "pink",
          "line": {
           "width": 2
          },
          "size": 10
         },
         "mode": "markers",
         "name": "ksrikrishna",
         "type": "scatter",
         "x": [
          -9.64171651113576
         ],
         "y": [
          -2.5143495478497417
         ]
        },
        {
         "hoverinfo": "name",
         "marker": {
          "color": "pink",
          "line": {
           "width": 2
          },
          "size": 10
         },
         "mode": "markers",
         "name": "haaswrites",
         "type": "scatter",
         "x": [
          -2.2267511330489107
         ],
         "y": [
          -7.715783225312308
         ]
        },
        {
         "hoverinfo": "name",
         "marker": {
          "color": "pink",
          "line": {
           "width": 2
          },
          "size": 10
         },
         "mode": "markers",
         "name": "susanbeebe",
         "type": "scatter",
         "x": [
          7.348951912399041
         ],
         "y": [
          -18.02034113723568
         ]
        },
        {
         "hoverinfo": "name",
         "marker": {
          "color": "pink",
          "line": {
           "width": 2
          },
          "size": 10
         },
         "mode": "markers",
         "name": "khkremer)",
         "type": "scatter",
         "x": [
          10.550577298050253
         ],
         "y": [
          -8.179729970986532
         ]
        },
        {
         "hoverinfo": "name",
         "marker": {
          "color": "purple",
          "line": {
           "width": 2
          },
          "size": 10
         },
         "mode": "markers",
         "name": "nnonta",
         "type": "scatter",
         "x": [
          12.51599654525502
         ],
         "y": [
          -4.08714616179274
         ]
        },
        {
         "hoverinfo": "name",
         "marker": {
          "color": "pink",
          "line": {
           "width": 2
          },
          "size": 10
         },
         "mode": "markers",
         "name": "hollywood_trey",
         "type": "scatter",
         "x": [
          -13.990565518227992
         ],
         "y": [
          4.49114698391111
         ]
        },
        {
         "hoverinfo": "name",
         "marker": {
          "color": "pink",
          "line": {
           "width": 2
          },
          "size": 10
         },
         "mode": "markers",
         "name": "midesfilenegro",
         "type": "scatter",
         "x": [
          22.30171007514493
         ],
         "y": [
          -0.524469822501738
         ]
        },
        {
         "hoverinfo": "name",
         "marker": {
          "color": "pink",
          "line": {
           "width": 2
          },
          "size": 10
         },
         "mode": "markers",
         "name": "tessmorris",
         "type": "scatter",
         "x": [
          1.1148493528077184
         ],
         "y": [
          -3.9937408717593756
         ]
        },
        {
         "hoverinfo": "name",
         "marker": {
          "color": "pink",
          "line": {
           "width": 2
          },
          "size": 10
         },
         "mode": "markers",
         "name": "amazingphoebe",
         "type": "scatter",
         "x": [
          -8.765282350783203
         ],
         "y": [
          -7.513264535331379
         ]
        },
        {
         "hoverinfo": "name",
         "marker": {
          "color": "pink",
          "line": {
           "width": 2
          },
          "size": 10
         },
         "mode": "markers",
         "name": "kasey79",
         "type": "scatter",
         "x": [
          -13.20716207334935
         ],
         "y": [
          -14.090316713215872
         ]
        },
        {
         "hoverinfo": "name",
         "marker": {
          "color": "pink",
          "line": {
           "width": 2
          },
          "size": 10
         },
         "mode": "markers",
         "name": "lost_dog",
         "type": "scatter",
         "x": [
          0.7093801699363188
         ],
         "y": [
          16.200914287046835
         ]
        },
        {
         "hoverinfo": "name",
         "marker": {
          "color": "pink",
          "line": {
           "width": 2
          },
          "size": 10
         },
         "mode": "markers",
         "name": "nessie111",
         "type": "scatter",
         "x": [
          5.230956316925225
         ],
         "y": [
          4.737878124350087
         ]
        },
        {
         "hoverinfo": "name",
         "marker": {
          "color": "pink",
          "line": {
           "width": 2
          },
          "size": 10
         },
         "mode": "markers",
         "name": "nuttychris",
         "type": "scatter",
         "x": [
          2.486021956535268
         ],
         "y": [
          -8.64139480022371
         ]
        },
        {
         "hoverinfo": "name",
         "marker": {
          "color": "pink",
          "line": {
           "width": 2
          },
          "size": 10
         },
         "mode": "markers",
         "name": "sebby_peek",
         "type": "scatter",
         "x": [
          1.8531318062544133
         ],
         "y": [
          -4.215810209049663
         ]
        },
        {
         "hoverinfo": "name",
         "marker": {
          "color": "pink",
          "line": {
           "width": 2
          },
          "size": 10
         },
         "mode": "markers",
         "name": "tweetpet",
         "type": "scatter",
         "x": [
          9.375555831982872
         ],
         "y": [
          12.30230079853361
         ]
        }
       ],
       "layout": {
        "showlegend": false,
        "template": {
         "data": {
          "bar": [
           {
            "error_x": {
             "color": "#2a3f5f"
            },
            "error_y": {
             "color": "#2a3f5f"
            },
            "marker": {
             "line": {
              "color": "#E5ECF6",
              "width": 0.5
             },
             "pattern": {
              "fillmode": "overlay",
              "size": 10,
              "solidity": 0.2
             }
            },
            "type": "bar"
           }
          ],
          "barpolar": [
           {
            "marker": {
             "line": {
              "color": "#E5ECF6",
              "width": 0.5
             },
             "pattern": {
              "fillmode": "overlay",
              "size": 10,
              "solidity": 0.2
             }
            },
            "type": "barpolar"
           }
          ],
          "carpet": [
           {
            "aaxis": {
             "endlinecolor": "#2a3f5f",
             "gridcolor": "white",
             "linecolor": "white",
             "minorgridcolor": "white",
             "startlinecolor": "#2a3f5f"
            },
            "baxis": {
             "endlinecolor": "#2a3f5f",
             "gridcolor": "white",
             "linecolor": "white",
             "minorgridcolor": "white",
             "startlinecolor": "#2a3f5f"
            },
            "type": "carpet"
           }
          ],
          "choropleth": [
           {
            "colorbar": {
             "outlinewidth": 0,
             "ticks": ""
            },
            "type": "choropleth"
           }
          ],
          "contour": [
           {
            "colorbar": {
             "outlinewidth": 0,
             "ticks": ""
            },
            "colorscale": [
             [
              0,
              "#0d0887"
             ],
             [
              0.1111111111111111,
              "#46039f"
             ],
             [
              0.2222222222222222,
              "#7201a8"
             ],
             [
              0.3333333333333333,
              "#9c179e"
             ],
             [
              0.4444444444444444,
              "#bd3786"
             ],
             [
              0.5555555555555556,
              "#d8576b"
             ],
             [
              0.6666666666666666,
              "#ed7953"
             ],
             [
              0.7777777777777778,
              "#fb9f3a"
             ],
             [
              0.8888888888888888,
              "#fdca26"
             ],
             [
              1,
              "#f0f921"
             ]
            ],
            "type": "contour"
           }
          ],
          "contourcarpet": [
           {
            "colorbar": {
             "outlinewidth": 0,
             "ticks": ""
            },
            "type": "contourcarpet"
           }
          ],
          "heatmap": [
           {
            "colorbar": {
             "outlinewidth": 0,
             "ticks": ""
            },
            "colorscale": [
             [
              0,
              "#0d0887"
             ],
             [
              0.1111111111111111,
              "#46039f"
             ],
             [
              0.2222222222222222,
              "#7201a8"
             ],
             [
              0.3333333333333333,
              "#9c179e"
             ],
             [
              0.4444444444444444,
              "#bd3786"
             ],
             [
              0.5555555555555556,
              "#d8576b"
             ],
             [
              0.6666666666666666,
              "#ed7953"
             ],
             [
              0.7777777777777778,
              "#fb9f3a"
             ],
             [
              0.8888888888888888,
              "#fdca26"
             ],
             [
              1,
              "#f0f921"
             ]
            ],
            "type": "heatmap"
           }
          ],
          "heatmapgl": [
           {
            "colorbar": {
             "outlinewidth": 0,
             "ticks": ""
            },
            "colorscale": [
             [
              0,
              "#0d0887"
             ],
             [
              0.1111111111111111,
              "#46039f"
             ],
             [
              0.2222222222222222,
              "#7201a8"
             ],
             [
              0.3333333333333333,
              "#9c179e"
             ],
             [
              0.4444444444444444,
              "#bd3786"
             ],
             [
              0.5555555555555556,
              "#d8576b"
             ],
             [
              0.6666666666666666,
              "#ed7953"
             ],
             [
              0.7777777777777778,
              "#fb9f3a"
             ],
             [
              0.8888888888888888,
              "#fdca26"
             ],
             [
              1,
              "#f0f921"
             ]
            ],
            "type": "heatmapgl"
           }
          ],
          "histogram": [
           {
            "marker": {
             "pattern": {
              "fillmode": "overlay",
              "size": 10,
              "solidity": 0.2
             }
            },
            "type": "histogram"
           }
          ],
          "histogram2d": [
           {
            "colorbar": {
             "outlinewidth": 0,
             "ticks": ""
            },
            "colorscale": [
             [
              0,
              "#0d0887"
             ],
             [
              0.1111111111111111,
              "#46039f"
             ],
             [
              0.2222222222222222,
              "#7201a8"
             ],
             [
              0.3333333333333333,
              "#9c179e"
             ],
             [
              0.4444444444444444,
              "#bd3786"
             ],
             [
              0.5555555555555556,
              "#d8576b"
             ],
             [
              0.6666666666666666,
              "#ed7953"
             ],
             [
              0.7777777777777778,
              "#fb9f3a"
             ],
             [
              0.8888888888888888,
              "#fdca26"
             ],
             [
              1,
              "#f0f921"
             ]
            ],
            "type": "histogram2d"
           }
          ],
          "histogram2dcontour": [
           {
            "colorbar": {
             "outlinewidth": 0,
             "ticks": ""
            },
            "colorscale": [
             [
              0,
              "#0d0887"
             ],
             [
              0.1111111111111111,
              "#46039f"
             ],
             [
              0.2222222222222222,
              "#7201a8"
             ],
             [
              0.3333333333333333,
              "#9c179e"
             ],
             [
              0.4444444444444444,
              "#bd3786"
             ],
             [
              0.5555555555555556,
              "#d8576b"
             ],
             [
              0.6666666666666666,
              "#ed7953"
             ],
             [
              0.7777777777777778,
              "#fb9f3a"
             ],
             [
              0.8888888888888888,
              "#fdca26"
             ],
             [
              1,
              "#f0f921"
             ]
            ],
            "type": "histogram2dcontour"
           }
          ],
          "mesh3d": [
           {
            "colorbar": {
             "outlinewidth": 0,
             "ticks": ""
            },
            "type": "mesh3d"
           }
          ],
          "parcoords": [
           {
            "line": {
             "colorbar": {
              "outlinewidth": 0,
              "ticks": ""
             }
            },
            "type": "parcoords"
           }
          ],
          "pie": [
           {
            "automargin": true,
            "type": "pie"
           }
          ],
          "scatter": [
           {
            "fillpattern": {
             "fillmode": "overlay",
             "size": 10,
             "solidity": 0.2
            },
            "type": "scatter"
           }
          ],
          "scatter3d": [
           {
            "line": {
             "colorbar": {
              "outlinewidth": 0,
              "ticks": ""
             }
            },
            "marker": {
             "colorbar": {
              "outlinewidth": 0,
              "ticks": ""
             }
            },
            "type": "scatter3d"
           }
          ],
          "scattercarpet": [
           {
            "marker": {
             "colorbar": {
              "outlinewidth": 0,
              "ticks": ""
             }
            },
            "type": "scattercarpet"
           }
          ],
          "scattergeo": [
           {
            "marker": {
             "colorbar": {
              "outlinewidth": 0,
              "ticks": ""
             }
            },
            "type": "scattergeo"
           }
          ],
          "scattergl": [
           {
            "marker": {
             "colorbar": {
              "outlinewidth": 0,
              "ticks": ""
             }
            },
            "type": "scattergl"
           }
          ],
          "scattermapbox": [
           {
            "marker": {
             "colorbar": {
              "outlinewidth": 0,
              "ticks": ""
             }
            },
            "type": "scattermapbox"
           }
          ],
          "scatterpolar": [
           {
            "marker": {
             "colorbar": {
              "outlinewidth": 0,
              "ticks": ""
             }
            },
            "type": "scatterpolar"
           }
          ],
          "scatterpolargl": [
           {
            "marker": {
             "colorbar": {
              "outlinewidth": 0,
              "ticks": ""
             }
            },
            "type": "scatterpolargl"
           }
          ],
          "scatterternary": [
           {
            "marker": {
             "colorbar": {
              "outlinewidth": 0,
              "ticks": ""
             }
            },
            "type": "scatterternary"
           }
          ],
          "surface": [
           {
            "colorbar": {
             "outlinewidth": 0,
             "ticks": ""
            },
            "colorscale": [
             [
              0,
              "#0d0887"
             ],
             [
              0.1111111111111111,
              "#46039f"
             ],
             [
              0.2222222222222222,
              "#7201a8"
             ],
             [
              0.3333333333333333,
              "#9c179e"
             ],
             [
              0.4444444444444444,
              "#bd3786"
             ],
             [
              0.5555555555555556,
              "#d8576b"
             ],
             [
              0.6666666666666666,
              "#ed7953"
             ],
             [
              0.7777777777777778,
              "#fb9f3a"
             ],
             [
              0.8888888888888888,
              "#fdca26"
             ],
             [
              1,
              "#f0f921"
             ]
            ],
            "type": "surface"
           }
          ],
          "table": [
           {
            "cells": {
             "fill": {
              "color": "#EBF0F8"
             },
             "line": {
              "color": "white"
             }
            },
            "header": {
             "fill": {
              "color": "#C8D4E3"
             },
             "line": {
              "color": "white"
             }
            },
            "type": "table"
           }
          ]
         },
         "layout": {
          "annotationdefaults": {
           "arrowcolor": "#2a3f5f",
           "arrowhead": 0,
           "arrowwidth": 1
          },
          "autotypenumbers": "strict",
          "coloraxis": {
           "colorbar": {
            "outlinewidth": 0,
            "ticks": ""
           }
          },
          "colorscale": {
           "diverging": [
            [
             0,
             "#8e0152"
            ],
            [
             0.1,
             "#c51b7d"
            ],
            [
             0.2,
             "#de77ae"
            ],
            [
             0.3,
             "#f1b6da"
            ],
            [
             0.4,
             "#fde0ef"
            ],
            [
             0.5,
             "#f7f7f7"
            ],
            [
             0.6,
             "#e6f5d0"
            ],
            [
             0.7,
             "#b8e186"
            ],
            [
             0.8,
             "#7fbc41"
            ],
            [
             0.9,
             "#4d9221"
            ],
            [
             1,
             "#276419"
            ]
           ],
           "sequential": [
            [
             0,
             "#0d0887"
            ],
            [
             0.1111111111111111,
             "#46039f"
            ],
            [
             0.2222222222222222,
             "#7201a8"
            ],
            [
             0.3333333333333333,
             "#9c179e"
            ],
            [
             0.4444444444444444,
             "#bd3786"
            ],
            [
             0.5555555555555556,
             "#d8576b"
            ],
            [
             0.6666666666666666,
             "#ed7953"
            ],
            [
             0.7777777777777778,
             "#fb9f3a"
            ],
            [
             0.8888888888888888,
             "#fdca26"
            ],
            [
             1,
             "#f0f921"
            ]
           ],
           "sequentialminus": [
            [
             0,
             "#0d0887"
            ],
            [
             0.1111111111111111,
             "#46039f"
            ],
            [
             0.2222222222222222,
             "#7201a8"
            ],
            [
             0.3333333333333333,
             "#9c179e"
            ],
            [
             0.4444444444444444,
             "#bd3786"
            ],
            [
             0.5555555555555556,
             "#d8576b"
            ],
            [
             0.6666666666666666,
             "#ed7953"
            ],
            [
             0.7777777777777778,
             "#fb9f3a"
            ],
            [
             0.8888888888888888,
             "#fdca26"
            ],
            [
             1,
             "#f0f921"
            ]
           ]
          },
          "colorway": [
           "#636efa",
           "#EF553B",
           "#00cc96",
           "#ab63fa",
           "#FFA15A",
           "#19d3f3",
           "#FF6692",
           "#B6E880",
           "#FF97FF",
           "#FECB52"
          ],
          "font": {
           "color": "#2a3f5f"
          },
          "geo": {
           "bgcolor": "white",
           "lakecolor": "white",
           "landcolor": "#E5ECF6",
           "showlakes": true,
           "showland": true,
           "subunitcolor": "white"
          },
          "hoverlabel": {
           "align": "left"
          },
          "hovermode": "closest",
          "mapbox": {
           "style": "light"
          },
          "paper_bgcolor": "white",
          "plot_bgcolor": "#E5ECF6",
          "polar": {
           "angularaxis": {
            "gridcolor": "white",
            "linecolor": "white",
            "ticks": ""
           },
           "bgcolor": "#E5ECF6",
           "radialaxis": {
            "gridcolor": "white",
            "linecolor": "white",
            "ticks": ""
           }
          },
          "scene": {
           "xaxis": {
            "backgroundcolor": "#E5ECF6",
            "gridcolor": "white",
            "gridwidth": 2,
            "linecolor": "white",
            "showbackground": true,
            "ticks": "",
            "zerolinecolor": "white"
           },
           "yaxis": {
            "backgroundcolor": "#E5ECF6",
            "gridcolor": "white",
            "gridwidth": 2,
            "linecolor": "white",
            "showbackground": true,
            "ticks": "",
            "zerolinecolor": "white"
           },
           "zaxis": {
            "backgroundcolor": "#E5ECF6",
            "gridcolor": "white",
            "gridwidth": 2,
            "linecolor": "white",
            "showbackground": true,
            "ticks": "",
            "zerolinecolor": "white"
           }
          },
          "shapedefaults": {
           "line": {
            "color": "#2a3f5f"
           }
          },
          "ternary": {
           "aaxis": {
            "gridcolor": "white",
            "linecolor": "white",
            "ticks": ""
           },
           "baxis": {
            "gridcolor": "white",
            "linecolor": "white",
            "ticks": ""
           },
           "bgcolor": "#E5ECF6",
           "caxis": {
            "gridcolor": "white",
            "linecolor": "white",
            "ticks": ""
           }
          },
          "title": {
           "x": 0.05
          },
          "xaxis": {
           "automargin": true,
           "gridcolor": "white",
           "linecolor": "white",
           "ticks": "",
           "title": {
            "standoff": 15
           },
           "zerolinecolor": "white",
           "zerolinewidth": 2
          },
          "yaxis": {
           "automargin": true,
           "gridcolor": "white",
           "linecolor": "white",
           "ticks": "",
           "title": {
            "standoff": 15
           },
           "zerolinecolor": "white",
           "zerolinewidth": 2
          }
         }
        }
       }
      },
      "text/html": [
       "<div>                            <div id=\"3adb419c-9c72-4acf-9726-3c38e73d61d8\" class=\"plotly-graph-div\" style=\"height:525px; width:100%;\"></div>            <script type=\"text/javascript\">                require([\"plotly\"], function(Plotly) {                    window.PLOTLYENV=window.PLOTLYENV || {};                                    if (document.getElementById(\"3adb419c-9c72-4acf-9726-3c38e73d61d8\")) {                    Plotly.newPlot(                        \"3adb419c-9c72-4acf-9726-3c38e73d61d8\",                        [{\"hoverinfo\":\"none\",\"line\":{\"color\":\"red\",\"width\":1},\"mode\":\"lines\",\"x\":[9.417154046806644,-6.797144480784211],\"y\":[-13.9657810470115,3.705035674606598],\"type\":\"scatter\"},{\"hoverinfo\":\"none\",\"line\":{\"color\":\"red\",\"width\":1},\"mode\":\"lines\",\"x\":[-10.16348894188071,1.7919648727485686],\"y\":[-0.7212002278507135,-8.310992152709883],\"type\":\"scatter\"},{\"hoverinfo\":\"none\",\"line\":{\"color\":\"red\",\"width\":1},\"mode\":\"lines\",\"x\":[1.7919648727485686,-13.090373644593587],\"y\":[-8.310992152709883,1.938877412491041],\"type\":\"scatter\"},{\"hoverinfo\":\"none\",\"line\":{\"color\":\"red\",\"width\":1},\"mode\":\"lines\",\"x\":[9.932497035351972,-3.3366798379566953],\"y\":[-6.469816305475048,16.456717605826775],\"type\":\"scatter\"},{\"hoverinfo\":\"none\",\"line\":{\"color\":\"red\",\"width\":1},\"mode\":\"lines\",\"x\":[-5.588897658482706,24.0411933229857],\"y\":[-5.1415666305272705,-15.3108259287363],\"type\":\"scatter\"},{\"hoverinfo\":\"none\",\"line\":{\"color\":\"red\",\"width\":1},\"mode\":\"lines\",\"x\":[7.964658402935511,-5.969627480857021],\"y\":[-20.036485171514045,15.03680882481937],\"type\":\"scatter\"},{\"hoverinfo\":\"none\",\"line\":{\"color\":\"red\",\"width\":1},\"mode\":\"lines\",\"x\":[-5.969627480857021,-19.81533079553284],\"y\":[15.03680882481937,2.8824374558107566],\"type\":\"scatter\"},{\"hoverinfo\":\"none\",\"line\":{\"color\":\"red\",\"width\":1},\"mode\":\"lines\",\"x\":[12.21436413076672,-4.536987301246161],\"y\":[-9.011201503953835,0.8023304241061141],\"type\":\"scatter\"},{\"hoverinfo\":\"none\",\"line\":{\"color\":\"red\",\"width\":1},\"mode\":\"lines\",\"x\":[-12.581032977244673,22.27577292070218],\"y\":[5.522200050609998,-13.552414935512669],\"type\":\"scatter\"},{\"hoverinfo\":\"none\",\"line\":{\"color\":\"red\",\"width\":1},\"mode\":\"lines\",\"x\":[-1.1912331108457304,-1.6036217905701025],\"y\":[18.043299319195405,-0.50659713648723],\"type\":\"scatter\"},{\"hoverinfo\":\"none\",\"line\":{\"color\":\"red\",\"width\":1},\"mode\":\"lines\",\"x\":[-1.9087388960126037,6.730299840253856],\"y\":[-9.90606238348301,-13.24082464472022],\"type\":\"scatter\"},{\"hoverinfo\":\"none\",\"line\":{\"color\":\"red\",\"width\":1},\"mode\":\"lines\",\"x\":[11.66490138238534,5.036300563785048],\"y\":[0.08376179502044914,-5.527646971207059],\"type\":\"scatter\"},{\"hoverinfo\":\"none\",\"line\":{\"color\":\"red\",\"width\":1},\"mode\":\"lines\",\"x\":[-9.201936678335406,4.6854978225277915],\"y\":[18.002633604412996,12.070031793653449],\"type\":\"scatter\"},{\"hoverinfo\":\"none\",\"line\":{\"color\":\"red\",\"width\":1},\"mode\":\"lines\",\"x\":[1.8712289779980942,3.5750004836441205],\"y\":[26.116075272560476,-10.29804804536397],\"type\":\"scatter\"},{\"hoverinfo\":\"none\",\"line\":{\"color\":\"red\",\"width\":1},\"mode\":\"lines\",\"x\":[7.685090969541893,-23.211499734925592],\"y\":[4.252991158576464,-1.1590422906128792],\"type\":\"scatter\"},{\"hoverinfo\":\"none\",\"line\":{\"color\":\"red\",\"width\":1},\"mode\":\"lines\",\"x\":[9.801990211840204,-3.3943540831298873],\"y\":[8.011650401167723,-12.126242150471978],\"type\":\"scatter\"},{\"hoverinfo\":\"none\",\"line\":{\"color\":\"red\",\"width\":1},\"mode\":\"lines\",\"x\":[4.912935493074279,13.246786624104562],\"y\":[-11.458279458387148,-3.062675465966934],\"type\":\"scatter\"},{\"hoverinfo\":\"none\",\"line\":{\"color\":\"red\",\"width\":1},\"mode\":\"lines\",\"x\":[-9.248190034741935,-8.108888130650163],\"y\":[-5.6766591999366645,-5.607173124842789],\"type\":\"scatter\"},{\"hoverinfo\":\"none\",\"line\":{\"color\":\"red\",\"width\":1},\"mode\":\"lines\",\"x\":[-7.363841038040713,2.389696992365105],\"y\":[-3.790085233670528,5.968890727968448],\"type\":\"scatter\"},{\"hoverinfo\":\"none\",\"line\":{\"color\":\"red\",\"width\":1},\"mode\":\"lines\",\"x\":[-11.102432745276205,-4.291525093014532],\"y\":[-9.515379395659727,0.6374559279155836],\"type\":\"scatter\"},{\"hoverinfo\":\"none\",\"line\":{\"color\":\"red\",\"width\":1},\"mode\":\"lines\",\"x\":[0.977293717290007,0.977293717290007],\"y\":[-20.439815288694376,-20.439815288694376],\"type\":\"scatter\"},{\"hoverinfo\":\"none\",\"line\":{\"color\":\"red\",\"width\":1},\"mode\":\"lines\",\"x\":[17.040273506937485,18.169888616305943],\"y\":[-8.901940183523209,-13.522550174067378],\"type\":\"scatter\"},{\"hoverinfo\":\"none\",\"line\":{\"color\":\"red\",\"width\":1},\"mode\":\"lines\",\"x\":[-9.64171651113576,-2.2267511330489107],\"y\":[-2.5143495478497417,-7.715783225312308],\"type\":\"scatter\"},{\"hoverinfo\":\"none\",\"line\":{\"color\":\"red\",\"width\":1},\"mode\":\"lines\",\"x\":[7.348951912399041,10.550577298050253],\"y\":[-18.02034113723568,-8.179729970986532],\"type\":\"scatter\"},{\"hoverinfo\":\"none\",\"line\":{\"color\":\"blue\",\"width\":1},\"mode\":\"lines\",\"x\":[12.51599654525502,-13.990565518227992],\"y\":[-4.08714616179274,4.49114698391111],\"type\":\"scatter\"},{\"hoverinfo\":\"none\",\"line\":{\"color\":\"blue\",\"width\":1},\"mode\":\"lines\",\"x\":[12.51599654525502,22.30171007514493],\"y\":[-4.08714616179274,-0.524469822501738],\"type\":\"scatter\"},{\"hoverinfo\":\"none\",\"line\":{\"color\":\"blue\",\"width\":1},\"mode\":\"lines\",\"x\":[12.51599654525502,1.1148493528077184],\"y\":[-4.08714616179274,-3.9937408717593756],\"type\":\"scatter\"},{\"hoverinfo\":\"none\",\"line\":{\"color\":\"blue\",\"width\":1},\"mode\":\"lines\",\"x\":[12.51599654525502,-8.765282350783203],\"y\":[-4.08714616179274,-7.513264535331379],\"type\":\"scatter\"},{\"hoverinfo\":\"none\",\"line\":{\"color\":\"blue\",\"width\":1},\"mode\":\"lines\",\"x\":[12.51599654525502,-13.20716207334935],\"y\":[-4.08714616179274,-14.090316713215872],\"type\":\"scatter\"},{\"hoverinfo\":\"none\",\"line\":{\"color\":\"blue\",\"width\":1},\"mode\":\"lines\",\"x\":[12.51599654525502,0.7093801699363188],\"y\":[-4.08714616179274,16.200914287046835],\"type\":\"scatter\"},{\"hoverinfo\":\"none\",\"line\":{\"color\":\"blue\",\"width\":1},\"mode\":\"lines\",\"x\":[12.51599654525502,5.230956316925225],\"y\":[-4.08714616179274,4.737878124350087],\"type\":\"scatter\"},{\"hoverinfo\":\"none\",\"line\":{\"color\":\"blue\",\"width\":1},\"mode\":\"lines\",\"x\":[12.51599654525502,2.486021956535268],\"y\":[-4.08714616179274,-8.64139480022371],\"type\":\"scatter\"},{\"hoverinfo\":\"none\",\"line\":{\"color\":\"blue\",\"width\":1},\"mode\":\"lines\",\"x\":[12.51599654525502,1.8531318062544133],\"y\":[-4.08714616179274,-4.215810209049663],\"type\":\"scatter\"},{\"hoverinfo\":\"none\",\"line\":{\"color\":\"blue\",\"width\":1},\"mode\":\"lines\",\"x\":[12.51599654525502,9.375555831982872],\"y\":[-4.08714616179274,12.30230079853361],\"type\":\"scatter\"},{\"hoverinfo\":\"name\",\"marker\":{\"color\":\"pink\",\"line\":{\"width\":2},\"size\":10},\"mode\":\"markers\",\"name\":\"scum\",\"x\":[9.417154046806644],\"y\":[-13.9657810470115],\"type\":\"scatter\"},{\"hoverinfo\":\"name\",\"marker\":{\"color\":\"pink\",\"line\":{\"width\":2},\"size\":10},\"mode\":\"markers\",\"name\":\"bourgtai\",\"x\":[-6.797144480784211],\"y\":[3.705035674606598],\"type\":\"scatter\"},{\"hoverinfo\":\"name\",\"marker\":{\"color\":\"pink\",\"line\":{\"width\":2},\"size\":10},\"mode\":\"markers\",\"name\":\"MobileNatives\",\"x\":[-10.16348894188071],\"y\":[-0.7212002278507135],\"type\":\"scatter\"},{\"hoverinfo\":\"name\",\"marker\":{\"color\":\"pink\",\"line\":{\"width\":2},\"size\":10},\"mode\":\"markers\",\"name\":\"elmina\",\"x\":[1.7919648727485686],\"y\":[-8.310992152709883],\"type\":\"scatter\"},{\"hoverinfo\":\"name\",\"marker\":{\"color\":\"pink\",\"line\":{\"width\":2},\"size\":10},\"mode\":\"markers\",\"name\":\"twtrfail\",\"x\":[-13.090373644593587],\"y\":[1.938877412491041],\"type\":\"scatter\"},{\"hoverinfo\":\"name\",\"marker\":{\"color\":\"pink\",\"line\":{\"width\":2},\"size\":10},\"mode\":\"markers\",\"name\":\"djweso\",\"x\":[9.932497035351972],\"y\":[-6.469816305475048],\"type\":\"scatter\"},{\"hoverinfo\":\"name\",\"marker\":{\"color\":\"pink\",\"line\":{\"width\":2},\"size\":10},\"mode\":\"markers\",\"name\":\"g33kgurrl\",\"x\":[-3.3366798379566953],\"y\":[16.456717605826775],\"type\":\"scatter\"},{\"hoverinfo\":\"name\",\"marker\":{\"color\":\"pink\",\"line\":{\"width\":2},\"size\":10},\"mode\":\"markers\",\"name\":\"theSuda\",\"x\":[-5.588897658482706],\"y\":[-5.1415666305272705],\"type\":\"scatter\"},{\"hoverinfo\":\"name\",\"marker\":{\"color\":\"pink\",\"line\":{\"width\":2},\"size\":10},\"mode\":\"markers\",\"name\":\"purplebeats\",\"x\":[24.0411933229857],\"y\":[-15.3108259287363],\"type\":\"scatter\"},{\"hoverinfo\":\"name\",\"marker\":{\"color\":\"pink\",\"line\":{\"width\":2},\"size\":10},\"mode\":\"markers\",\"name\":\"ctham\",\"x\":[7.964658402935511],\"y\":[-20.036485171514045],\"type\":\"scatter\"},{\"hoverinfo\":\"name\",\"marker\":{\"color\":\"pink\",\"line\":{\"width\":2},\"size\":10},\"mode\":\"markers\",\"name\":\"wolfgang_\",\"x\":[-5.969627480857021],\"y\":[15.03680882481937],\"type\":\"scatter\"},{\"hoverinfo\":\"name\",\"marker\":{\"color\":\"pink\",\"line\":{\"width\":2},\"size\":10},\"mode\":\"markers\",\"name\":\"okwithmydecay\",\"x\":[12.21436413076672],\"y\":[-9.011201503953835],\"type\":\"scatter\"},{\"hoverinfo\":\"name\",\"marker\":{\"color\":\"pink\",\"line\":{\"width\":2},\"size\":10},\"mode\":\"markers\",\"name\":\"spotibot\",\"x\":[-4.536987301246161],\"y\":[0.8023304241061141],\"type\":\"scatter\"},{\"hoverinfo\":\"name\",\"marker\":{\"color\":\"pink\",\"line\":{\"width\":2},\"size\":10},\"mode\":\"markers\",\"name\":\"SkydiveMike\",\"x\":[-12.581032977244673],\"y\":[5.522200050609998],\"type\":\"scatter\"},{\"hoverinfo\":\"name\",\"marker\":{\"color\":\"pink\",\"line\":{\"width\":2},\"size\":10},\"mode\":\"markers\",\"name\":\"jenxstudios\",\"x\":[22.27577292070218],\"y\":[-13.552414935512669],\"type\":\"scatter\"},{\"hoverinfo\":\"name\",\"marker\":{\"color\":\"pink\",\"line\":{\"width\":2},\"size\":10},\"mode\":\"markers\",\"name\":\"betshopboy\",\"x\":[-19.81533079553284],\"y\":[2.8824374558107566],\"type\":\"scatter\"},{\"hoverinfo\":\"name\",\"marker\":{\"color\":\"pink\",\"line\":{\"width\":2},\"size\":10},\"mode\":\"markers\",\"name\":\"Sk4tz\",\"x\":[-1.1912331108457304],\"y\":[18.043299319195405],\"type\":\"scatter\"},{\"hoverinfo\":\"name\",\"marker\":{\"color\":\"pink\",\"line\":{\"width\":2},\"size\":10},\"mode\":\"markers\",\"name\":\"soehlsch)\",\"x\":[-1.6036217905701025],\"y\":[-0.50659713648723],\"type\":\"scatter\"},{\"hoverinfo\":\"name\",\"marker\":{\"color\":\"pink\",\"line\":{\"width\":2},\"size\":10},\"mode\":\"markers\",\"name\":\"hideout\",\"x\":[-1.9087388960126037],\"y\":[-9.90606238348301],\"type\":\"scatter\"},{\"hoverinfo\":\"name\",\"marker\":{\"color\":\"pink\",\"line\":{\"width\":2},\"size\":10},\"mode\":\"markers\",\"name\":\"jmtosses\",\"x\":[6.730299840253856],\"y\":[-13.24082464472022],\"type\":\"scatter\"},{\"hoverinfo\":\"name\",\"marker\":{\"color\":\"pink\",\"line\":{\"width\":2},\"size\":10},\"mode\":\"markers\",\"name\":\"lauralovesart\",\"x\":[11.66490138238534],\"y\":[0.08376179502044914],\"type\":\"scatter\"},{\"hoverinfo\":\"name\",\"marker\":{\"color\":\"pink\",\"line\":{\"width\":2},\"size\":10},\"mode\":\"markers\",\"name\":\"kyeung808\",\"x\":[5.036300563785048],\"y\":[-5.527646971207059],\"type\":\"scatter\"},{\"hoverinfo\":\"name\",\"marker\":{\"color\":\"pink\",\"line\":{\"width\":2},\"size\":10},\"mode\":\"markers\",\"name\":\"christinakb\",\"x\":[-9.201936678335406],\"y\":[18.002633604412996],\"type\":\"scatter\"},{\"hoverinfo\":\"name\",\"marker\":{\"color\":\"pink\",\"line\":{\"width\":2},\"size\":10},\"mode\":\"markers\",\"name\":\"juella_\",\"x\":[4.6854978225277915],\"y\":[12.070031793653449],\"type\":\"scatter\"},{\"hoverinfo\":\"name\",\"marker\":{\"color\":\"pink\",\"line\":{\"width\":2},\"size\":10},\"mode\":\"markers\",\"name\":\"lmastromauro\",\"x\":[1.8712289779980942],\"y\":[26.116075272560476],\"type\":\"scatter\"},{\"hoverinfo\":\"name\",\"marker\":{\"color\":\"pink\",\"line\":{\"width\":2},\"size\":10},\"mode\":\"markers\",\"name\":\"maurahernandez\",\"x\":[3.5750004836441205],\"y\":[-10.29804804536397],\"type\":\"scatter\"},{\"hoverinfo\":\"name\",\"marker\":{\"color\":\"pink\",\"line\":{\"width\":2},\"size\":10},\"mode\":\"markers\",\"name\":\"hashgame\",\"x\":[7.685090969541893],\"y\":[4.252991158576464],\"type\":\"scatter\"},{\"hoverinfo\":\"name\",\"marker\":{\"color\":\"pink\",\"line\":{\"width\":2},\"size\":10},\"mode\":\"markers\",\"name\":\"digitaltempest)\",\"x\":[-23.211499734925592],\"y\":[-1.1590422906128792],\"type\":\"scatter\"},{\"hoverinfo\":\"name\",\"marker\":{\"color\":\"pink\",\"line\":{\"width\":2},\"size\":10},\"mode\":\"markers\",\"name\":\"shntenchi\",\"x\":[9.801990211840204],\"y\":[8.011650401167723],\"type\":\"scatter\"},{\"hoverinfo\":\"name\",\"marker\":{\"color\":\"pink\",\"line\":{\"width\":2},\"size\":10},\"mode\":\"markers\",\"name\":\"daremoshiranai\",\"x\":[-3.3943540831298873],\"y\":[-12.126242150471978],\"type\":\"scatter\"},{\"hoverinfo\":\"name\",\"marker\":{\"color\":\"pink\",\"line\":{\"width\":2},\"size\":10},\"mode\":\"markers\",\"name\":\"elpargo\",\"x\":[4.912935493074279],\"y\":[-11.458279458387148],\"type\":\"scatter\"},{\"hoverinfo\":\"name\",\"marker\":{\"color\":\"pink\",\"line\":{\"width\":2},\"size\":10},\"mode\":\"markers\",\"name\":\"pjenvey\",\"x\":[13.246786624104562],\"y\":[-3.062675465966934],\"type\":\"scatter\"},{\"hoverinfo\":\"name\",\"marker\":{\"color\":\"pink\",\"line\":{\"width\":2},\"size\":10},\"mode\":\"markers\",\"name\":\"tomatoejane\",\"x\":[-9.248190034741935],\"y\":[-5.6766591999366645],\"type\":\"scatter\"},{\"hoverinfo\":\"name\",\"marker\":{\"color\":\"pink\",\"line\":{\"width\":2},\"size\":10},\"mode\":\"markers\",\"name\":\"davidsteven\",\"x\":[-8.108888130650163],\"y\":[-5.607173124842789],\"type\":\"scatter\"},{\"hoverinfo\":\"name\",\"marker\":{\"color\":\"pink\",\"line\":{\"width\":2},\"size\":10},\"mode\":\"markers\",\"name\":\"ntkilpatrick\",\"x\":[-7.363841038040713],\"y\":[-3.790085233670528],\"type\":\"scatter\"},{\"hoverinfo\":\"name\",\"marker\":{\"color\":\"pink\",\"line\":{\"width\":2},\"size\":10},\"mode\":\"markers\",\"name\":\"skweeker\",\"x\":[2.389696992365105],\"y\":[5.968890727968448],\"type\":\"scatter\"},{\"hoverinfo\":\"name\",\"marker\":{\"color\":\"pink\",\"line\":{\"width\":2},\"size\":10},\"mode\":\"markers\",\"name\":\"AldrichSilva\",\"x\":[-11.102432745276205],\"y\":[-9.515379395659727],\"type\":\"scatter\"},{\"hoverinfo\":\"name\",\"marker\":{\"color\":\"pink\",\"line\":{\"width\":2},\"size\":10},\"mode\":\"markers\",\"name\":\"crystalgibson)\",\"x\":[-4.291525093014532],\"y\":[0.6374559279155836],\"type\":\"scatter\"},{\"hoverinfo\":\"name\",\"marker\":{\"color\":\"pink\",\"line\":{\"width\":2},\"size\":10},\"mode\":\"markers\",\"name\":\"stiplady\",\"x\":[0.977293717290007],\"y\":[-20.439815288694376],\"type\":\"scatter\"},{\"hoverinfo\":\"name\",\"marker\":{\"color\":\"pink\",\"line\":{\"width\":2},\"size\":10},\"mode\":\"markers\",\"name\":\"fastchicken\",\"x\":[17.040273506937485],\"y\":[-8.901940183523209],\"type\":\"scatter\"},{\"hoverinfo\":\"name\",\"marker\":{\"color\":\"pink\",\"line\":{\"width\":2},\"size\":10},\"mode\":\"markers\",\"name\":\"kiwibastard\",\"x\":[18.169888616305943],\"y\":[-13.522550174067378],\"type\":\"scatter\"},{\"hoverinfo\":\"name\",\"marker\":{\"color\":\"pink\",\"line\":{\"width\":2},\"size\":10},\"mode\":\"markers\",\"name\":\"ksrikrishna\",\"x\":[-9.64171651113576],\"y\":[-2.5143495478497417],\"type\":\"scatter\"},{\"hoverinfo\":\"name\",\"marker\":{\"color\":\"pink\",\"line\":{\"width\":2},\"size\":10},\"mode\":\"markers\",\"name\":\"haaswrites\",\"x\":[-2.2267511330489107],\"y\":[-7.715783225312308],\"type\":\"scatter\"},{\"hoverinfo\":\"name\",\"marker\":{\"color\":\"pink\",\"line\":{\"width\":2},\"size\":10},\"mode\":\"markers\",\"name\":\"susanbeebe\",\"x\":[7.348951912399041],\"y\":[-18.02034113723568],\"type\":\"scatter\"},{\"hoverinfo\":\"name\",\"marker\":{\"color\":\"pink\",\"line\":{\"width\":2},\"size\":10},\"mode\":\"markers\",\"name\":\"khkremer)\",\"x\":[10.550577298050253],\"y\":[-8.179729970986532],\"type\":\"scatter\"},{\"hoverinfo\":\"name\",\"marker\":{\"color\":\"purple\",\"line\":{\"width\":2},\"size\":10},\"mode\":\"markers\",\"name\":\"nnonta\",\"x\":[12.51599654525502],\"y\":[-4.08714616179274],\"type\":\"scatter\"},{\"hoverinfo\":\"name\",\"marker\":{\"color\":\"pink\",\"line\":{\"width\":2},\"size\":10},\"mode\":\"markers\",\"name\":\"hollywood_trey\",\"x\":[-13.990565518227992],\"y\":[4.49114698391111],\"type\":\"scatter\"},{\"hoverinfo\":\"name\",\"marker\":{\"color\":\"pink\",\"line\":{\"width\":2},\"size\":10},\"mode\":\"markers\",\"name\":\"midesfilenegro\",\"x\":[22.30171007514493],\"y\":[-0.524469822501738],\"type\":\"scatter\"},{\"hoverinfo\":\"name\",\"marker\":{\"color\":\"pink\",\"line\":{\"width\":2},\"size\":10},\"mode\":\"markers\",\"name\":\"tessmorris\",\"x\":[1.1148493528077184],\"y\":[-3.9937408717593756],\"type\":\"scatter\"},{\"hoverinfo\":\"name\",\"marker\":{\"color\":\"pink\",\"line\":{\"width\":2},\"size\":10},\"mode\":\"markers\",\"name\":\"amazingphoebe\",\"x\":[-8.765282350783203],\"y\":[-7.513264535331379],\"type\":\"scatter\"},{\"hoverinfo\":\"name\",\"marker\":{\"color\":\"pink\",\"line\":{\"width\":2},\"size\":10},\"mode\":\"markers\",\"name\":\"kasey79\",\"x\":[-13.20716207334935],\"y\":[-14.090316713215872],\"type\":\"scatter\"},{\"hoverinfo\":\"name\",\"marker\":{\"color\":\"pink\",\"line\":{\"width\":2},\"size\":10},\"mode\":\"markers\",\"name\":\"lost_dog\",\"x\":[0.7093801699363188],\"y\":[16.200914287046835],\"type\":\"scatter\"},{\"hoverinfo\":\"name\",\"marker\":{\"color\":\"pink\",\"line\":{\"width\":2},\"size\":10},\"mode\":\"markers\",\"name\":\"nessie111\",\"x\":[5.230956316925225],\"y\":[4.737878124350087],\"type\":\"scatter\"},{\"hoverinfo\":\"name\",\"marker\":{\"color\":\"pink\",\"line\":{\"width\":2},\"size\":10},\"mode\":\"markers\",\"name\":\"nuttychris\",\"x\":[2.486021956535268],\"y\":[-8.64139480022371],\"type\":\"scatter\"},{\"hoverinfo\":\"name\",\"marker\":{\"color\":\"pink\",\"line\":{\"width\":2},\"size\":10},\"mode\":\"markers\",\"name\":\"sebby_peek\",\"x\":[1.8531318062544133],\"y\":[-4.215810209049663],\"type\":\"scatter\"},{\"hoverinfo\":\"name\",\"marker\":{\"color\":\"pink\",\"line\":{\"width\":2},\"size\":10},\"mode\":\"markers\",\"name\":\"tweetpet\",\"x\":[9.375555831982872],\"y\":[12.30230079853361],\"type\":\"scatter\"}],                        {\"showlegend\":false,\"template\":{\"data\":{\"barpolar\":[{\"marker\":{\"line\":{\"color\":\"#E5ECF6\",\"width\":0.5},\"pattern\":{\"fillmode\":\"overlay\",\"size\":10,\"solidity\":0.2}},\"type\":\"barpolar\"}],\"bar\":[{\"error_x\":{\"color\":\"#2a3f5f\"},\"error_y\":{\"color\":\"#2a3f5f\"},\"marker\":{\"line\":{\"color\":\"#E5ECF6\",\"width\":0.5},\"pattern\":{\"fillmode\":\"overlay\",\"size\":10,\"solidity\":0.2}},\"type\":\"bar\"}],\"carpet\":[{\"aaxis\":{\"endlinecolor\":\"#2a3f5f\",\"gridcolor\":\"white\",\"linecolor\":\"white\",\"minorgridcolor\":\"white\",\"startlinecolor\":\"#2a3f5f\"},\"baxis\":{\"endlinecolor\":\"#2a3f5f\",\"gridcolor\":\"white\",\"linecolor\":\"white\",\"minorgridcolor\":\"white\",\"startlinecolor\":\"#2a3f5f\"},\"type\":\"carpet\"}],\"choropleth\":[{\"colorbar\":{\"outlinewidth\":0,\"ticks\":\"\"},\"type\":\"choropleth\"}],\"contourcarpet\":[{\"colorbar\":{\"outlinewidth\":0,\"ticks\":\"\"},\"type\":\"contourcarpet\"}],\"contour\":[{\"colorbar\":{\"outlinewidth\":0,\"ticks\":\"\"},\"colorscale\":[[0.0,\"#0d0887\"],[0.1111111111111111,\"#46039f\"],[0.2222222222222222,\"#7201a8\"],[0.3333333333333333,\"#9c179e\"],[0.4444444444444444,\"#bd3786\"],[0.5555555555555556,\"#d8576b\"],[0.6666666666666666,\"#ed7953\"],[0.7777777777777778,\"#fb9f3a\"],[0.8888888888888888,\"#fdca26\"],[1.0,\"#f0f921\"]],\"type\":\"contour\"}],\"heatmapgl\":[{\"colorbar\":{\"outlinewidth\":0,\"ticks\":\"\"},\"colorscale\":[[0.0,\"#0d0887\"],[0.1111111111111111,\"#46039f\"],[0.2222222222222222,\"#7201a8\"],[0.3333333333333333,\"#9c179e\"],[0.4444444444444444,\"#bd3786\"],[0.5555555555555556,\"#d8576b\"],[0.6666666666666666,\"#ed7953\"],[0.7777777777777778,\"#fb9f3a\"],[0.8888888888888888,\"#fdca26\"],[1.0,\"#f0f921\"]],\"type\":\"heatmapgl\"}],\"heatmap\":[{\"colorbar\":{\"outlinewidth\":0,\"ticks\":\"\"},\"colorscale\":[[0.0,\"#0d0887\"],[0.1111111111111111,\"#46039f\"],[0.2222222222222222,\"#7201a8\"],[0.3333333333333333,\"#9c179e\"],[0.4444444444444444,\"#bd3786\"],[0.5555555555555556,\"#d8576b\"],[0.6666666666666666,\"#ed7953\"],[0.7777777777777778,\"#fb9f3a\"],[0.8888888888888888,\"#fdca26\"],[1.0,\"#f0f921\"]],\"type\":\"heatmap\"}],\"histogram2dcontour\":[{\"colorbar\":{\"outlinewidth\":0,\"ticks\":\"\"},\"colorscale\":[[0.0,\"#0d0887\"],[0.1111111111111111,\"#46039f\"],[0.2222222222222222,\"#7201a8\"],[0.3333333333333333,\"#9c179e\"],[0.4444444444444444,\"#bd3786\"],[0.5555555555555556,\"#d8576b\"],[0.6666666666666666,\"#ed7953\"],[0.7777777777777778,\"#fb9f3a\"],[0.8888888888888888,\"#fdca26\"],[1.0,\"#f0f921\"]],\"type\":\"histogram2dcontour\"}],\"histogram2d\":[{\"colorbar\":{\"outlinewidth\":0,\"ticks\":\"\"},\"colorscale\":[[0.0,\"#0d0887\"],[0.1111111111111111,\"#46039f\"],[0.2222222222222222,\"#7201a8\"],[0.3333333333333333,\"#9c179e\"],[0.4444444444444444,\"#bd3786\"],[0.5555555555555556,\"#d8576b\"],[0.6666666666666666,\"#ed7953\"],[0.7777777777777778,\"#fb9f3a\"],[0.8888888888888888,\"#fdca26\"],[1.0,\"#f0f921\"]],\"type\":\"histogram2d\"}],\"histogram\":[{\"marker\":{\"pattern\":{\"fillmode\":\"overlay\",\"size\":10,\"solidity\":0.2}},\"type\":\"histogram\"}],\"mesh3d\":[{\"colorbar\":{\"outlinewidth\":0,\"ticks\":\"\"},\"type\":\"mesh3d\"}],\"parcoords\":[{\"line\":{\"colorbar\":{\"outlinewidth\":0,\"ticks\":\"\"}},\"type\":\"parcoords\"}],\"pie\":[{\"automargin\":true,\"type\":\"pie\"}],\"scatter3d\":[{\"line\":{\"colorbar\":{\"outlinewidth\":0,\"ticks\":\"\"}},\"marker\":{\"colorbar\":{\"outlinewidth\":0,\"ticks\":\"\"}},\"type\":\"scatter3d\"}],\"scattercarpet\":[{\"marker\":{\"colorbar\":{\"outlinewidth\":0,\"ticks\":\"\"}},\"type\":\"scattercarpet\"}],\"scattergeo\":[{\"marker\":{\"colorbar\":{\"outlinewidth\":0,\"ticks\":\"\"}},\"type\":\"scattergeo\"}],\"scattergl\":[{\"marker\":{\"colorbar\":{\"outlinewidth\":0,\"ticks\":\"\"}},\"type\":\"scattergl\"}],\"scattermapbox\":[{\"marker\":{\"colorbar\":{\"outlinewidth\":0,\"ticks\":\"\"}},\"type\":\"scattermapbox\"}],\"scatterpolargl\":[{\"marker\":{\"colorbar\":{\"outlinewidth\":0,\"ticks\":\"\"}},\"type\":\"scatterpolargl\"}],\"scatterpolar\":[{\"marker\":{\"colorbar\":{\"outlinewidth\":0,\"ticks\":\"\"}},\"type\":\"scatterpolar\"}],\"scatter\":[{\"fillpattern\":{\"fillmode\":\"overlay\",\"size\":10,\"solidity\":0.2},\"type\":\"scatter\"}],\"scatterternary\":[{\"marker\":{\"colorbar\":{\"outlinewidth\":0,\"ticks\":\"\"}},\"type\":\"scatterternary\"}],\"surface\":[{\"colorbar\":{\"outlinewidth\":0,\"ticks\":\"\"},\"colorscale\":[[0.0,\"#0d0887\"],[0.1111111111111111,\"#46039f\"],[0.2222222222222222,\"#7201a8\"],[0.3333333333333333,\"#9c179e\"],[0.4444444444444444,\"#bd3786\"],[0.5555555555555556,\"#d8576b\"],[0.6666666666666666,\"#ed7953\"],[0.7777777777777778,\"#fb9f3a\"],[0.8888888888888888,\"#fdca26\"],[1.0,\"#f0f921\"]],\"type\":\"surface\"}],\"table\":[{\"cells\":{\"fill\":{\"color\":\"#EBF0F8\"},\"line\":{\"color\":\"white\"}},\"header\":{\"fill\":{\"color\":\"#C8D4E3\"},\"line\":{\"color\":\"white\"}},\"type\":\"table\"}]},\"layout\":{\"annotationdefaults\":{\"arrowcolor\":\"#2a3f5f\",\"arrowhead\":0,\"arrowwidth\":1},\"autotypenumbers\":\"strict\",\"coloraxis\":{\"colorbar\":{\"outlinewidth\":0,\"ticks\":\"\"}},\"colorscale\":{\"diverging\":[[0,\"#8e0152\"],[0.1,\"#c51b7d\"],[0.2,\"#de77ae\"],[0.3,\"#f1b6da\"],[0.4,\"#fde0ef\"],[0.5,\"#f7f7f7\"],[0.6,\"#e6f5d0\"],[0.7,\"#b8e186\"],[0.8,\"#7fbc41\"],[0.9,\"#4d9221\"],[1,\"#276419\"]],\"sequential\":[[0.0,\"#0d0887\"],[0.1111111111111111,\"#46039f\"],[0.2222222222222222,\"#7201a8\"],[0.3333333333333333,\"#9c179e\"],[0.4444444444444444,\"#bd3786\"],[0.5555555555555556,\"#d8576b\"],[0.6666666666666666,\"#ed7953\"],[0.7777777777777778,\"#fb9f3a\"],[0.8888888888888888,\"#fdca26\"],[1.0,\"#f0f921\"]],\"sequentialminus\":[[0.0,\"#0d0887\"],[0.1111111111111111,\"#46039f\"],[0.2222222222222222,\"#7201a8\"],[0.3333333333333333,\"#9c179e\"],[0.4444444444444444,\"#bd3786\"],[0.5555555555555556,\"#d8576b\"],[0.6666666666666666,\"#ed7953\"],[0.7777777777777778,\"#fb9f3a\"],[0.8888888888888888,\"#fdca26\"],[1.0,\"#f0f921\"]]},\"colorway\":[\"#636efa\",\"#EF553B\",\"#00cc96\",\"#ab63fa\",\"#FFA15A\",\"#19d3f3\",\"#FF6692\",\"#B6E880\",\"#FF97FF\",\"#FECB52\"],\"font\":{\"color\":\"#2a3f5f\"},\"geo\":{\"bgcolor\":\"white\",\"lakecolor\":\"white\",\"landcolor\":\"#E5ECF6\",\"showlakes\":true,\"showland\":true,\"subunitcolor\":\"white\"},\"hoverlabel\":{\"align\":\"left\"},\"hovermode\":\"closest\",\"mapbox\":{\"style\":\"light\"},\"paper_bgcolor\":\"white\",\"plot_bgcolor\":\"#E5ECF6\",\"polar\":{\"angularaxis\":{\"gridcolor\":\"white\",\"linecolor\":\"white\",\"ticks\":\"\"},\"bgcolor\":\"#E5ECF6\",\"radialaxis\":{\"gridcolor\":\"white\",\"linecolor\":\"white\",\"ticks\":\"\"}},\"scene\":{\"xaxis\":{\"backgroundcolor\":\"#E5ECF6\",\"gridcolor\":\"white\",\"gridwidth\":2,\"linecolor\":\"white\",\"showbackground\":true,\"ticks\":\"\",\"zerolinecolor\":\"white\"},\"yaxis\":{\"backgroundcolor\":\"#E5ECF6\",\"gridcolor\":\"white\",\"gridwidth\":2,\"linecolor\":\"white\",\"showbackground\":true,\"ticks\":\"\",\"zerolinecolor\":\"white\"},\"zaxis\":{\"backgroundcolor\":\"#E5ECF6\",\"gridcolor\":\"white\",\"gridwidth\":2,\"linecolor\":\"white\",\"showbackground\":true,\"ticks\":\"\",\"zerolinecolor\":\"white\"}},\"shapedefaults\":{\"line\":{\"color\":\"#2a3f5f\"}},\"ternary\":{\"aaxis\":{\"gridcolor\":\"white\",\"linecolor\":\"white\",\"ticks\":\"\"},\"baxis\":{\"gridcolor\":\"white\",\"linecolor\":\"white\",\"ticks\":\"\"},\"bgcolor\":\"#E5ECF6\",\"caxis\":{\"gridcolor\":\"white\",\"linecolor\":\"white\",\"ticks\":\"\"}},\"title\":{\"x\":0.05},\"xaxis\":{\"automargin\":true,\"gridcolor\":\"white\",\"linecolor\":\"white\",\"ticks\":\"\",\"title\":{\"standoff\":15},\"zerolinecolor\":\"white\",\"zerolinewidth\":2},\"yaxis\":{\"automargin\":true,\"gridcolor\":\"white\",\"linecolor\":\"white\",\"ticks\":\"\",\"title\":{\"standoff\":15},\"zerolinecolor\":\"white\",\"zerolinewidth\":2}}}},                        {\"responsive\": true}                    ).then(function(){\n",
       "                            \n",
       "var gd = document.getElementById('3adb419c-9c72-4acf-9726-3c38e73d61d8');\n",
       "var x = new MutationObserver(function (mutations, observer) {{\n",
       "        var display = window.getComputedStyle(gd).display;\n",
       "        if (!display || display === 'none') {{\n",
       "            console.log([gd, 'removed!']);\n",
       "            Plotly.purge(gd);\n",
       "            observer.disconnect();\n",
       "        }}\n",
       "}});\n",
       "\n",
       "// Listen for the removal of the full notebook cells\n",
       "var notebookContainer = gd.closest('#notebook-container');\n",
       "if (notebookContainer) {{\n",
       "    x.observe(notebookContainer, {childList: true});\n",
       "}}\n",
       "\n",
       "// Listen for the clearing of the current output cell\n",
       "var outputEl = gd.closest('.output');\n",
       "if (outputEl) {{\n",
       "    x.observe(outputEl, {childList: true});\n",
       "}}\n",
       "\n",
       "                        })                };                });            </script>        </div>"
      ]
     },
     "metadata": {},
     "output_type": "display_data"
    }
   ],
   "source": [
    "def plotNetwork(graph):\n",
    "    scatters=[]\n",
    "\n",
    "    for (node1, node2) in graph.edges():\n",
    "        # NOTE: node1, and node2 are the usernames\n",
    "        # TODO: Change the color of the edge line if one of the nodes is yours\n",
    "        if (node1 =='nnonta' or node2 =='nnonta'):\n",
    "            color = 'blue'\n",
    "        else:\n",
    "            color = 'red'\n",
    "        x0, y0 = graph.nodes[node1]['pos']\n",
    "        x1, y1 = graph.nodes[node2]['pos']\n",
    "        edgeWidth = graph[node1][node2]['numberMentions']\n",
    "        s = Scatter(\n",
    "                x=[x0, x1],\n",
    "                y=[y0, y1],\n",
    "                hoverinfo='none',\n",
    "                mode='lines', \n",
    "                line=Line(width=1 ,color=color))\n",
    "        scatters.append(s)\n",
    "\n",
    "    for node in graph.nodes():\n",
    "        # TODO: Change the color of your node\n",
    "        if (node == 'nnonta'):\n",
    "            color = 'purple'\n",
    "        else:\n",
    "            color = 'pink'\n",
    "        xPos, yPos = graph.nodes[node]['pos']\n",
    "        s = Scatter(\n",
    "                x=[xPos], \n",
    "                y=[yPos], \n",
    "                hoverinfo='name',\n",
    "                name=node,\n",
    "                mode='markers', \n",
    "                marker=dict(\n",
    "                    color=color, \n",
    "                    size=10,         \n",
    "                    line=dict(width=2)))\n",
    "        scatters.append(s)\n",
    "    \n",
    "    layout = Layout(showlegend=False)\n",
    "    fig = Figure(data=scatters, layout=layout)\n",
    "    iplot(fig, show_link=False )\n",
    "\n",
    "plotNetwork(hashtagGraph)"
   ]
  }
 ],
 "metadata": {
  "kernelspec": {
   "display_name": "Python 3.10.11 ('pyspark')",
   "language": "python",
   "name": "python3"
  },
  "language_info": {
   "codemirror_mode": {
    "name": "ipython",
    "version": 3
   },
   "file_extension": ".py",
   "mimetype": "text/x-python",
   "name": "python",
   "nbconvert_exporter": "python",
   "pygments_lexer": "ipython3",
   "version": "3.10.11"
  },
  "vscode": {
   "interpreter": {
    "hash": "092769fe138e3a162ee8111577aebfc10bed72d6e493c37e0c6c133e8bf81378"
   }
  }
 },
 "nbformat": 4,
 "nbformat_minor": 5
}
